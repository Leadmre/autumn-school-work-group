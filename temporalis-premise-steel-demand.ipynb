{
 "cells": [
  {
   "cell_type": "markdown",
   "id": "ee114fb4-b7fc-4c47-851d-ddd0efba495c",
   "metadata": {
    "jp-MarkdownHeadingCollapsed": true
   },
   "source": [
    "Temporalis and Prospective LCA of steel demand for passenger cars\n",
    "\n",
    "package: \n",
    "- brightway 25\n",
    "- PREMISE "
   ]
  },
  {
   "cell_type": "code",
   "execution_count": 8,
   "id": "59f4e974-5f1b-41ea-b245-d4093f5ce1c8",
   "metadata": {},
   "outputs": [],
   "source": [
    "import bw2data as bd\n",
    "import bw2calc as bc\n",
    "import seaborn as sb\n",
    "from bw_temporalis import easy_timedelta_distribution, TemporalisLCA\n",
    "from bw_temporalis.lcia import characterize_co2"
   ]
  },
  {
   "cell_type": "code",
   "execution_count": 9,
   "id": "f628a71f-d110-4118-8d08-2101d617b391",
   "metadata": {},
   "outputs": [],
   "source": [
    "import os               # to use \"operating system dependent functionality\"\n",
    "import numpy as np      # \"the fundamental package for scientific computing with Python\"\n",
    "import pandas as pd "
   ]
  },
  {
   "cell_type": "code",
   "execution_count": 10,
   "id": "9fff35c1-feb8-4109-a442-7d6d45d1f0ae",
   "metadata": {},
   "outputs": [
    {
     "data": {
      "text/plain": [
       "Brightway2 projects manager with 24 objects, including:\n",
       "\tBW2 introduction\n",
       "\tCarculator test\n",
       "\tMAXIMA\n",
       "\tMy first LCA\n",
       "\tNewscore\n",
       "\tPremise\n",
       "\tSELFIE\n",
       "\tSELFIE paper\n",
       "\tTemporalis example project\n",
       "\tautumn school 2024\n",
       "Use `sorted(projects)` to get full list, `projects.report()` to get\n",
       "\ta report on all projects."
      ]
     },
     "execution_count": 10,
     "metadata": {},
     "output_type": "execute_result"
    }
   ],
   "source": [
    "bd.projects"
   ]
  },
  {
   "cell_type": "code",
   "execution_count": 11,
   "id": "c9638b13-6d6a-4b02-b89c-412774a9f559",
   "metadata": {},
   "outputs": [],
   "source": [
    "bd.projects.set_current(\"bw25_intro\")"
   ]
  },
  {
   "cell_type": "code",
   "execution_count": 47,
   "id": "562404e8-5ddd-49ee-b0b6-b9c4910ce0f4",
   "metadata": {},
   "outputs": [
    {
     "data": {
      "text/plain": [
       "['biosphere',\n",
       " 'ecoinvent-3.10-cutoff',\n",
       " 'carbon fiber',\n",
       " 'PV 2035',\n",
       " 'PV 2050',\n",
       " 'PV 2050 - eff',\n",
       " 'PV 2050 - eff - lifetime',\n",
       " 'World electricity mix 2050',\n",
       " 'ei_cutoff_3.10_remind_SSP1-Base_2020 2024-11-14',\n",
       " 'ei_cutoff_3.10_remind_SSP1-Base_2050 2024-11-14',\n",
       " 'ei_cutoff_3.10_image_SSP2-RCP19_2020 2024-11-14',\n",
       " 'ei_cutoff_3.10_image_SSP2-RCP19_2050 2024-11-14',\n",
       " 'ei_cutoff_3.10_remind_SSP1-PkBudg500_2020 2024-11-14',\n",
       " 'ei_cutoff_3.10_remind_SSP1-PkBudg500_2050 2024-11-14',\n",
       " 'ei_cutoff_3.10_remind_SSP2-PkBudg500_2020 2024-11-14',\n",
       " 'ei_cutoff_3.10_remind_SSP2-PkBudg500_2050 2024-11-14',\n",
       " 'example',\n",
       " 'steel2025',\n",
       " 'steel2026',\n",
       " 'steel2027',\n",
       " 'steel2028',\n",
       " 'steel2029',\n",
       " 'steel2030',\n",
       " 'steel2031',\n",
       " 'steel2032',\n",
       " 'steel2033',\n",
       " 'steel2034',\n",
       " 'steel2035',\n",
       " 'steel2036',\n",
       " 'steel2037',\n",
       " 'steel2038',\n",
       " 'steel2039',\n",
       " 'steel2040',\n",
       " 'steel2041',\n",
       " 'steel2042',\n",
       " 'steel2043',\n",
       " 'steel2044',\n",
       " 'steel2045',\n",
       " 'steel2046',\n",
       " 'steel2047',\n",
       " 'steel2048',\n",
       " 'steel2049',\n",
       " 'steel2050',\n",
       " 'newsteel2025',\n",
       " 'newsteel2026',\n",
       " 'newsteel2027',\n",
       " 'newsteel2028',\n",
       " 'newsteel2029',\n",
       " 'newsteel2030',\n",
       " 'newsteel2031',\n",
       " 'newsteel2032',\n",
       " 'newsteel2033',\n",
       " 'newsteel2034',\n",
       " 'newsteel2035',\n",
       " 'newsteel2036',\n",
       " 'newsteel2037',\n",
       " 'newsteel2038',\n",
       " 'newsteel2039',\n",
       " 'newsteel2040',\n",
       " 'newsteel2041',\n",
       " 'newsteel2042',\n",
       " 'newsteel2043',\n",
       " 'newsteel2044',\n",
       " 'newsteel2045',\n",
       " 'newsteel2046',\n",
       " 'newsteel2047',\n",
       " 'newsteel2048',\n",
       " 'newsteel2049',\n",
       " 'newsteel2050']"
      ]
     },
     "execution_count": 47,
     "metadata": {},
     "output_type": "execute_result"
    }
   ],
   "source": [
    "list(bd.databases)"
   ]
  },
  {
   "cell_type": "code",
   "execution_count": 39,
   "id": "aa307e31-f336-41bb-be38-08a63246b6fe",
   "metadata": {},
   "outputs": [],
   "source": [
    "eidb = bd.Database('ecoinvent-3.10-cutoff')\n",
    "eiSSP22020 = bd.Database('ei_cutoff_3.10_image_SSP2-RCP19_2020 2024-11-14')\n",
    "eiSSP22050 = bd.Database('ei_cutoff_3.10_image_SSP2-RCP19_2050 2024-11-14')\n",
    "eiSSP12020 = bd.Database('ei_cutoff_3.10_remind_SSP1-Base_2020 2024-11-14')\n",
    "eiSSP12050 = bd.Database('ei_cutoff_3.10_remind_SSP1-Base_2050 2024-11-14')"
   ]
  },
  {
   "cell_type": "code",
   "execution_count": 6,
   "id": "0758d234-f20e-4dfa-b1f2-64a29fed35d1",
   "metadata": {},
   "outputs": [],
   "source": [
    "remind = {\n",
    "    2020: 'ei_cutoff_3.10_remind_SSP1-Base_2020 2024-11-14',\n",
    "    2050: 'ei_cutoff_3.10_remind_SSP1-Base_2050 2024-11-14',\n",
    "}\n",
    "\n",
    "image = {\n",
    "    2020: 'ei_cutoff_3.10_image_SSP2-RCP19_2020 2024-11-14',\n",
    "    2050: 'ei_cutoff_3.10_image_SSP2-RCP19_2050 2024-11-14',\n",
    "}"
   ]
  },
  {
   "cell_type": "code",
   "execution_count": 7,
   "id": "ad1f6e78-946f-4f1c-9b44-de37108ab11b",
   "metadata": {
    "scrolled": true
   },
   "outputs": [
    {
     "data": {
      "text/plain": [
       "('ecoinvent-3.10',\n",
       " 'IPCC 2021',\n",
       " 'climate change',\n",
       " 'global warming potential (GWP100)')"
      ]
     },
     "execution_count": 7,
     "metadata": {},
     "output_type": "execute_result"
    }
   ],
   "source": [
    "ipcc2021 = [m for m in bd.methods if 'IPCC' in str(m)\n",
    "                    and ('2021') in str(m)\n",
    "                    and 'GWP100' in str(m)\n",
    "                    and 'no LT' not in str(m)\n",
    "                    and 'SLCF' not in str(m)\n",
    "           ][0]\n",
    "ipcc2021"
   ]
  },
  {
   "cell_type": "code",
   "execution_count": 69,
   "id": "3f7b6205-6782-4d99-bdf4-c1dbd0697212",
   "metadata": {},
   "outputs": [
    {
     "data": {
      "text/plain": [
       "[['market for steel, chromium steel 18/8, hot rolled' (kilogram, GLO, None),\n",
       "  'market for steel, unalloyed' (kilogram, GLO, None),\n",
       "  'market for steel, chromium steel 18/8' (kilogram, GLO, None),\n",
       "  'market for steel, low-alloyed, hot rolled' (kilogram, GLO, None),\n",
       "  'market for steel, low-alloyed' (kilogram, GLO, None)],\n",
       " ['market for steel, chromium steel 18/8' (kilogram, GLO, None),\n",
       "  'market for steel, low-alloyed' (kilogram, GLO, None),\n",
       "  'market for steel, unalloyed' (kilogram, GLO, None),\n",
       "  'market for steel, chromium steel 18/8, hot rolled' (kilogram, GLO, None),\n",
       "  'market for steel, low-alloyed, hot rolled' (kilogram, GLO, None)],\n",
       " ['market for steel, chromium steel 18/8, hot rolled' (kilogram, GLO, None),\n",
       "  'market for steel, low-alloyed' (kilogram, GLO, None),\n",
       "  'market for steel, low-alloyed, hot rolled' (kilogram, GLO, None),\n",
       "  'market for steel, unalloyed' (kilogram, GLO, None),\n",
       "  'market for steel, chromium steel 18/8' (kilogram, GLO, None)],\n",
       " ['market for steel, unalloyed' (kilogram, GLO, None),\n",
       "  'market for steel, chromium steel 18/8' (kilogram, GLO, None),\n",
       "  'market for steel, low-alloyed, hot rolled' (kilogram, GLO, None),\n",
       "  'market for steel, chromium steel 18/8, hot rolled' (kilogram, GLO, None),\n",
       "  'market for steel, low-alloyed' (kilogram, GLO, None)]]"
      ]
     },
     "execution_count": 69,
     "metadata": {},
     "output_type": "execute_result"
    }
   ],
   "source": [
    "steel=[]\n",
    "name = ['ei_cutoff_3.10_image_SSP2-RCP19_2020 2024-11-14', 'ei_cutoff_3.10_image_SSP2-RCP19_2050 2024-11-14', 'ei_cutoff_3.10_remind_SSP1-Base_2020 2024-11-14', 'ei_cutoff_3.10_remind_SSP1-Base_2050 2024-11-14']\n",
    "for exc in name:\n",
    "    steel.append([act for act in bd.Database(exc)\n",
    "            if 'market for steel,' in act['name']\n",
    "               ])\n",
    "steel"
   ]
  },
  {
   "cell_type": "code",
   "execution_count": 88,
   "id": "dedf346e-66c8-46e2-acdb-ce470aca60c7",
   "metadata": {},
   "outputs": [
    {
     "data": {
      "text/plain": [
       "['blablabla',\n",
       " ['market for steel, chromium steel 18/8, hot rolled' (kilogram, GLO, None),\n",
       "  'market for steel, unalloyed' (kilogram, GLO, None),\n",
       "  'market for steel, chromium steel 18/8' (kilogram, GLO, None),\n",
       "  'market for steel, low-alloyed, hot rolled' (kilogram, GLO, None),\n",
       "  'market for steel, low-alloyed' (kilogram, GLO, None)],\n",
       " ['market for steel, chromium steel 18/8' (kilogram, GLO, None),\n",
       "  'market for steel, low-alloyed' (kilogram, GLO, None),\n",
       "  'market for steel, unalloyed' (kilogram, GLO, None),\n",
       "  'market for steel, chromium steel 18/8, hot rolled' (kilogram, GLO, None),\n",
       "  'market for steel, low-alloyed, hot rolled' (kilogram, GLO, None)],\n",
       " ['market for steel, chromium steel 18/8, hot rolled' (kilogram, GLO, None),\n",
       "  'market for steel, low-alloyed' (kilogram, GLO, None),\n",
       "  'market for steel, low-alloyed, hot rolled' (kilogram, GLO, None),\n",
       "  'market for steel, unalloyed' (kilogram, GLO, None),\n",
       "  'market for steel, chromium steel 18/8' (kilogram, GLO, None)],\n",
       " ['market for steel, unalloyed' (kilogram, GLO, None),\n",
       "  'market for steel, chromium steel 18/8' (kilogram, GLO, None),\n",
       "  'market for steel, low-alloyed, hot rolled' (kilogram, GLO, None),\n",
       "  'market for steel, chromium steel 18/8, hot rolled' (kilogram, GLO, None),\n",
       "  'market for steel, low-alloyed' (kilogram, GLO, None)],\n",
       " [],\n",
       " [],\n",
       " [],\n",
       " [],\n",
       " ['market for reinforcing steel' (kilogram, GLO, None)],\n",
       " ['market for reinforcing steel' (kilogram, GLO, None)],\n",
       " ['market for reinforcing steel' (kilogram, GLO, None)],\n",
       " ['market for reinforcing steel' (kilogram, GLO, None)],\n",
       " ['market for reinforcing steel' (kilogram, GLO, None)],\n",
       " ['market for reinforcing steel' (kilogram, GLO, None)],\n",
       " ['market for reinforcing steel' (kilogram, GLO, None)],\n",
       " ['market for reinforcing steel' (kilogram, GLO, None)],\n",
       " ['market for reinforcing steel' (kilogram, GLO, None)],\n",
       " ['market for reinforcing steel' (kilogram, GLO, None)],\n",
       " ['market for reinforcing steel' (kilogram, GLO, None)],\n",
       " ['market for reinforcing steel' (kilogram, GLO, None)],\n",
       " ['market for reinforcing steel' (kilogram, GLO, None)],\n",
       " ['market for reinforcing steel' (kilogram, GLO, None)],\n",
       " ['market for reinforcing steel' (kilogram, GLO, None)],\n",
       " ['market for reinforcing steel' (kilogram, GLO, None)]]"
      ]
     },
     "execution_count": 88,
     "metadata": {},
     "output_type": "execute_result"
    }
   ],
   "source": [
    "steel1=[\"blablabla\"]\n",
    "name = ['ei_cutoff_3.10_image_SSP2-RCP19_2020 2024-11-14', 'ei_cutoff_3.10_image_SSP2-RCP19_2050 2024-11-14', 'ei_cutoff_3.10_remind_SSP1-Base_2020 2024-11-14', 'ei_cutoff_3.10_remind_SSP1-Base_2050 2024-11-14']\n",
    "for exc in name:\n",
    "    steel.append([act for act in bd.Database(exc)\n",
    "            if 'market for reinforcing' in act['name']\n",
    "               ])\n",
    "steel2 = steel1+steel\n",
    "steel2"
   ]
  },
  {
   "cell_type": "code",
   "execution_count": 71,
   "id": "241d6324-a27c-4d64-b417-c2ccb6c439b2",
   "metadata": {},
   "outputs": [
    {
     "data": {
      "text/plain": [
       "['passenger car production, electric, without battery' (kilogram, GLO, None),\n",
       " 'passenger car production, electric, without battery' (kilogram, GLO, None),\n",
       " 'passenger car production, electric, without battery' (kilogram, GLO, None),\n",
       " 'passenger car production, electric, without battery' (kilogram, GLO, None)]"
      ]
     },
     "execution_count": 71,
     "metadata": {},
     "output_type": "execute_result"
    }
   ],
   "source": [
    "database = [eiSSP22020, eiSSP22050, eiSSP12020, eiSSP12050]\n",
    "prospeccar=[]\n",
    "for i in database:\n",
    "    car=[act for act in i if 'passenger car production, electric' in act['name']\n",
    "                    and 'GLO' in act['location']][0]\n",
    "    prospeccar.append(car)\n",
    "prospeccar"
   ]
  },
  {
   "cell_type": "code",
   "execution_count": 60,
   "id": "615da803-54c5-4685-a8b3-c0dd34db6466",
   "metadata": {},
   "outputs": [
    {
     "name": "stdout",
     "output_type": "stream",
     "text": [
      "<bw2calc.lca.LCA object at 0x000001DBF35C5F90>\n",
      "<bw2calc.lca.LCA object at 0x000001DBD10A84D0>\n",
      "<bw2calc.lca.LCA object at 0x000001DBCF0BF690>\n",
      "<bw2calc.lca.LCA object at 0x000001DBD10A84D0>\n"
     ]
    },
    {
     "data": {
      "text/plain": [
       "['market for steel, low-alloyed, hot rolled' (kilogram, GLO, None),\n",
       " 'market for steel, chromium steel 18/8, hot rolled' (kilogram, GLO, None),\n",
       " 'market for steel, chromium steel 18/8' (kilogram, GLO, None),\n",
       " 'market for steel, unalloyed' (kilogram, GLO, None),\n",
       " 'market for steel, low-alloyed' (kilogram, GLO, None)]"
      ]
     },
     "execution_count": 60,
     "metadata": {},
     "output_type": "execute_result"
    }
   ],
   "source": [
    "for car in prospeccar:\n",
    "    myFirstLCA = bc.LCA({car:1}) \n",
    "    print(myFirstLCA)\n",
    "steel2"
   ]
  },
  {
   "cell_type": "code",
   "execution_count": 70,
   "id": "993b28d4-29df-4e12-8481-e9b79b8cc141",
   "metadata": {},
   "outputs": [
    {
     "name": "stdout",
     "output_type": "stream",
     "text": [
      "10801\n",
      "'market for steel, chromium steel 18/8, hot rolled' (kilogram, GLO, None)\n",
      "20769\n",
      "'market for steel, unalloyed' (kilogram, GLO, None)\n",
      "5245\n",
      "'market for steel, chromium steel 18/8' (kilogram, GLO, None)\n",
      "10840\n",
      "'market for steel, low-alloyed, hot rolled' (kilogram, GLO, None)\n",
      "21202\n",
      "'market for steel, low-alloyed' (kilogram, GLO, None)\n"
     ]
    },
    {
     "ename": "KeyError",
     "evalue": "207974",
     "output_type": "error",
     "traceback": [
      "\u001b[1;31m---------------------------------------------------------------------------\u001b[0m",
      "\u001b[1;31mKeyError\u001b[0m                                  Traceback (most recent call last)",
      "Cell \u001b[1;32mIn[70], line 10\u001b[0m\n\u001b[0;32m      8\u001b[0m myFirstLCA \u001b[38;5;241m=\u001b[39m bc\u001b[38;5;241m.\u001b[39mLCA({car:\u001b[38;5;241m1\u001b[39m})\n\u001b[0;32m      9\u001b[0m myFirstLCA\u001b[38;5;241m.\u001b[39mlci()\n\u001b[1;32m---> 10\u001b[0m lca_value \u001b[38;5;241m=\u001b[39m myFirstLCA\u001b[38;5;241m.\u001b[39msupply_array[\u001b[43mmyFirstLCA\u001b[49m\u001b[38;5;241;43m.\u001b[39;49m\u001b[43mactivity_dict\u001b[49m\u001b[43m[\u001b[49m\u001b[43mi\u001b[49m\u001b[38;5;241;43m.\u001b[39;49m\u001b[43mid\u001b[49m\u001b[43m]\u001b[49m]\n\u001b[0;32m     11\u001b[0m \u001b[38;5;28mprint\u001b[39m(myFirstLCA\u001b[38;5;241m.\u001b[39mactivity_dict[i\u001b[38;5;241m.\u001b[39mid])\n\u001b[0;32m     12\u001b[0m \u001b[38;5;28mprint\u001b[39m(i)\n",
      "File \u001b[1;32m~\\miniconda3\\envs\\bw25_2\\Lib\\site-packages\\bw2calc\\dictionary_manager.py:13\u001b[0m, in \u001b[0;36mresolved.<locals>.wrapper\u001b[1;34m(self, *args)\u001b[0m\n\u001b[0;32m     11\u001b[0m     \u001b[38;5;28mself\u001b[39m\u001b[38;5;241m.\u001b[39m_resolved \u001b[38;5;241m=\u001b[39m \u001b[38;5;28;01mTrue\u001b[39;00m\n\u001b[0;32m     12\u001b[0m     \u001b[38;5;28mdelattr\u001b[39m(\u001b[38;5;28mself\u001b[39m, \u001b[38;5;124m\"\u001b[39m\u001b[38;5;124m_partial\u001b[39m\u001b[38;5;124m\"\u001b[39m)\n\u001b[1;32m---> 13\u001b[0m \u001b[38;5;28;01mreturn\u001b[39;00m \u001b[43mf\u001b[49m\u001b[43m(\u001b[49m\u001b[38;5;28;43mself\u001b[39;49m\u001b[43m,\u001b[49m\u001b[43m \u001b[49m\u001b[38;5;241;43m*\u001b[39;49m\u001b[43margs\u001b[49m\u001b[43m)\u001b[49m\n",
      "File \u001b[1;32m~\\miniconda3\\envs\\bw25_2\\Lib\\site-packages\\bw2calc\\dictionary_manager.py:102\u001b[0m, in \u001b[0;36mReversibleRemappableDictionary.__getitem__\u001b[1;34m(self, key)\u001b[0m\n\u001b[0;32m    100\u001b[0m \u001b[38;5;129m@resolved\u001b[39m\n\u001b[0;32m    101\u001b[0m \u001b[38;5;28;01mdef\u001b[39;00m \u001b[38;5;21m__getitem__\u001b[39m(\u001b[38;5;28mself\u001b[39m, key):\n\u001b[1;32m--> 102\u001b[0m     \u001b[38;5;28;01mreturn\u001b[39;00m \u001b[38;5;28;43mself\u001b[39;49m\u001b[38;5;241;43m.\u001b[39;49m\u001b[43m_dict\u001b[49m\u001b[43m[\u001b[49m\u001b[43mkey\u001b[49m\u001b[43m]\u001b[49m\n",
      "\u001b[1;31mKeyError\u001b[0m: 207974"
     ]
    }
   ],
   "source": [
    "steel_total=[]\n",
    "steel2=steel[0]\n",
    "\n",
    "    \n",
    "for car in prospeccar:\n",
    "    steel_amount=0\n",
    "    for i in steel2:\n",
    "        myFirstLCA = bc.LCA({car:1})\n",
    "        myFirstLCA.lci()\n",
    "        lca_value = myFirstLCA.supply_array[myFirstLCA.activity_dict[i.id]]\n",
    "        print(myFirstLCA.activity_dict[i.id])\n",
    "        print(i)\n",
    "        steel_amount = steel_amount+lca_value \n",
    "        steel_total.append(steel_amount)\n",
    "\n",
    "steel_total"
   ]
  },
  {
   "cell_type": "code",
   "execution_count": 8,
   "id": "5511248a-0bd6-4314-ad84-0d5c8b12ce93",
   "metadata": {},
   "outputs": [],
   "source": [
    "def calculate_steel_amount(year, scenario):\n",
    "    if scenario == \"Base\":\n",
    "        database_name = remind[year]\n",
    "    else:\n",
    "        database_name = image[year]\n",
    "\n",
    "    ### Define functional unit ###\n",
    "    car = [act for act in bd.Database(database_name) if 'glider production, passenger car' in act['name']\n",
    "                    and 'GLO' in act['location']][0]\n",
    "    functional_unit = {car: 1} \n",
    "    \n",
    "    ### Run LCA ###\n",
    "    lca = bc.LCA(functional_unit)\n",
    "    lca.lci()\n",
    "\n",
    "    ### Find steel module amount ### \n",
    "    steel_amount = [act for act in bd.Database(database_name) if 'market for steel,' in act['name']\n",
    "           ]+[act for act in bd.Database(database_name) if 'market for reinforcing steel' in act['name']\n",
    "           ]\n",
    "    total_lca = 0\n",
    "    for i in steel_amount:\n",
    "        lca_value = lca.supply_array[lca.activity_dict[i.id]]\n",
    "        total_lca = lca_value+total_lca\n",
    "\n",
    "    return total_lca"
   ]
  },
  {
   "cell_type": "code",
   "execution_count": 15,
   "id": "88eaad6c-2a6f-4877-961b-76c069308908",
   "metadata": {},
   "outputs": [],
   "source": [
    "steel = [act for act in bd.Database( 'ei_cutoff_3.10_remind_SSP1-Base_2050 2024-11-14') if 'market for steel,' in act['name']\n",
    "                    and 'GLO' in act['location']][0]\n",
    "functional_unit = {steel: calculate_steel_amount(2050,'ei_cutoff_3.10_remind_SSP1-Base_2050 2024-11-14')} "
   ]
  },
  {
   "cell_type": "code",
   "execution_count": 25,
   "id": "0baa1a8e-d28e-49d0-8bfc-e3a349ad7acd",
   "metadata": {},
   "outputs": [
    {
     "data": {
      "text/plain": [
       "('ecoinvent-3.10',\n",
       " 'IPCC 2021',\n",
       " 'climate change',\n",
       " 'global warming potential (GWP100)')"
      ]
     },
     "execution_count": 25,
     "metadata": {},
     "output_type": "execute_result"
    }
   ],
   "source": [
    "ipcc2021 = [m for m in bd.methods if 'IPCC' in str(m)\n",
    "                    and ('2021') in str(m)\n",
    "                    and 'GWP100' in str(m)\n",
    "                    and 'no LT' not in str(m)\n",
    "                    and 'SLCF' not in str(m)\n",
    "           ][0]\n",
    "ipcc2021"
   ]
  },
  {
   "cell_type": "code",
   "execution_count": 17,
   "id": "4c52e03d-635c-4153-852e-45e47e4e35f5",
   "metadata": {},
   "outputs": [
    {
     "data": {
      "text/plain": [
       "4.285764116203784"
      ]
     },
     "execution_count": 17,
     "metadata": {},
     "output_type": "execute_result"
    }
   ],
   "source": [
    "lca=bc.LCA(functional_unit, ipcc2021)\n",
    "lca.lci()    # Builds matrices, solves the system, generates an LCI matrix.\n",
    "lca.lcia()   # Characterization, i.e. the multiplication of the elements \n",
    "                          # of the LCI matrix with characterization factors from the chosen method\n",
    "lca.score "
   ]
  },
  {
   "cell_type": "code",
   "execution_count": 97,
   "id": "45006f79-8e4c-4cda-ae8b-03856cb46654",
   "metadata": {},
   "outputs": [
    {
     "data": {
      "text/plain": [
       "2.1781831873808146"
      ]
     },
     "execution_count": 97,
     "metadata": {},
     "output_type": "execute_result"
    }
   ],
   "source": [
    "calculate_steel_amount(2020, 'ei_cutoff_3.10_remind_SSP1-Base_2020 2024-11-14')"
   ]
  },
  {
   "cell_type": "code",
   "execution_count": 100,
   "id": "fadee090-a963-4b99-b50f-6e16aea591b4",
   "metadata": {},
   "outputs": [
    {
     "data": {
      "text/plain": [
       "2.1781831873808146"
      ]
     },
     "execution_count": 100,
     "metadata": {},
     "output_type": "execute_result"
    }
   ],
   "source": [
    "calculate_steel_amount(2050, 'ei_cutoff_3.10_image_SSP2-RCP19_2050 2024-11-14')"
   ]
  },
  {
   "cell_type": "code",
   "execution_count": 56,
   "id": "bde03ec1-5772-4c5d-88b4-2a5c03e8c29a",
   "metadata": {},
   "outputs": [
    {
     "data": {
      "text/plain": [
       "'passenger car production, electric, without battery' (kilogram, GLO, None)"
      ]
     },
     "execution_count": 56,
     "metadata": {},
     "output_type": "execute_result"
    }
   ],
   "source": [
    "car=[act for act in eiSSP22020 if 'passenger car production, electric' in act['name']\n",
    "                    and 'GLO' in act['location']\n",
    "][0]\n",
    "car"
   ]
  },
  {
   "cell_type": "code",
   "execution_count": 57,
   "id": "f73614e7-94b8-4882-8d26-8175b3f138b2",
   "metadata": {},
   "outputs": [
    {
     "data": {
      "text/plain": [
       "bw2data.backends.proxies.Activity"
      ]
     },
     "execution_count": 57,
     "metadata": {},
     "output_type": "execute_result"
    }
   ],
   "source": [
    "type(car)"
   ]
  },
  {
   "cell_type": "code",
   "execution_count": 41,
   "id": "4cd7ec46-0fc1-4620-affc-20038184649b",
   "metadata": {},
   "outputs": [],
   "source": [
    "myFirstLCA = bc.LCA({car:1})"
   ]
  },
  {
   "cell_type": "code",
   "execution_count": 42,
   "id": "156e7561-91a2-4b0e-a0cd-2f02ae67d8af",
   "metadata": {},
   "outputs": [],
   "source": [
    "myFirstLCA.lci() "
   ]
  },
  {
   "cell_type": "code",
   "execution_count": 46,
   "id": "a8b9ac83-51e0-4e3e-a37c-7fdda0a0e486",
   "metadata": {
    "scrolled": true
   },
   "outputs": [
    {
     "data": {
      "text/plain": [
       "'market for steel, low-alloyed, hot rolled' (kilogram, GLO, None)"
      ]
     },
     "execution_count": 46,
     "metadata": {},
     "output_type": "execute_result"
    }
   ],
   "source": [
    "steel[0][0]"
   ]
  },
  {
   "cell_type": "code",
   "execution_count": 47,
   "id": "b5d17a0c-3bd8-4461-a7c0-8ed56a3ee46b",
   "metadata": {},
   "outputs": [
    {
     "data": {
      "text/plain": [
       "0.19964128351420565"
      ]
     },
     "execution_count": 47,
     "metadata": {},
     "output_type": "execute_result"
    }
   ],
   "source": [
    "lca_value = myFirstLCA.supply_array[myFirstLCA.activity_dict[steel[0][0].id]]\n",
    "lca_value"
   ]
  },
  {
   "cell_type": "code",
   "execution_count": 32,
   "id": "93e016a2-cb58-4b0c-9f11-368c3f37477b",
   "metadata": {},
   "outputs": [
    {
     "ename": "NameError",
     "evalue": "name 'steel' is not defined",
     "output_type": "error",
     "traceback": [
      "\u001b[1;31m---------------------------------------------------------------------------\u001b[0m",
      "\u001b[1;31mNameError\u001b[0m                                 Traceback (most recent call last)",
      "Cell \u001b[1;32mIn[32], line 2\u001b[0m\n\u001b[0;32m      1\u001b[0m steel_amount\u001b[38;5;241m=\u001b[39m\u001b[38;5;241m0\u001b[39m\n\u001b[1;32m----> 2\u001b[0m steel2\u001b[38;5;241m=\u001b[39m\u001b[43msteel\u001b[49m[\u001b[38;5;241m0\u001b[39m]\n\u001b[0;32m      3\u001b[0m \u001b[38;5;28;01mfor\u001b[39;00m i \u001b[38;5;129;01min\u001b[39;00m steel2:\n\u001b[0;32m      4\u001b[0m         lca_value \u001b[38;5;241m=\u001b[39m myFirstLCA\u001b[38;5;241m.\u001b[39msupply_array[myFirstLCA\u001b[38;5;241m.\u001b[39mactivity_dict[i\u001b[38;5;241m.\u001b[39mid]]\n",
      "\u001b[1;31mNameError\u001b[0m: name 'steel' is not defined"
     ]
    }
   ],
   "source": [
    "steel_amount=0\n",
    "steel2=steel[0]\n",
    "for i in steel2:\n",
    "        lca_value = myFirstLCA.supply_array[myFirstLCA.activity_dict[i.id]]\n",
    "        steel_amount=steel_amount+lca_value \n",
    "\n",
    "steel_amount"
   ]
  },
  {
   "cell_type": "code",
   "execution_count": 33,
   "id": "1e4e1091-b3a6-4a8e-9fea-3ff1437337ed",
   "metadata": {
    "scrolled": true
   },
   "outputs": [
    {
     "name": "stdout",
     "output_type": "stream",
     "text": [
      "0\n",
      "1\n",
      "2\n",
      "3\n",
      "4\n",
      "5\n",
      "6\n",
      "7\n",
      "8\n",
      "9\n",
      "10\n",
      "11\n",
      "12\n",
      "13\n",
      "14\n",
      "15\n",
      "16\n",
      "17\n",
      "18\n",
      "19\n",
      "20\n",
      "21\n",
      "22\n",
      "23\n",
      "24\n",
      "25\n"
     ]
    }
   ],
   "source": [
    "CO2_amount=[]\n",
    "for i in range(26):\n",
    "    print(i)\n",
    "    CO2_amount+= [-0.2688*(2025+i)+555.32]"
   ]
  },
  {
   "cell_type": "code",
   "execution_count": 35,
   "id": "de59eaef-d500-43e3-99e7-614f9c461eb6",
   "metadata": {},
   "outputs": [],
   "source": [
    "def database_car_SSP1(year,CO2):\n",
    "    index= year-2025\n",
    "    database={\n",
    "                ('newsteel'+ str(year), \"CO2\"): {\n",
    "                    \"type\": \"emission\",\n",
    "                    \"name\": \"carbon dioxide\",\n",
    "                    \"unit\": \"kilogram\",\n",
    "                },\n",
    "                \n",
    "                ('newsteel'+ str(year), 'electric-car'): {\n",
    "                    'name': 'produce an electric car',\n",
    "                    'exchanges': [\n",
    "                        {\n",
    "                            'amount': 1,\n",
    "                            'type': 'technosphere',\n",
    "                            'input': ('newsteel'+ str(year), 'car-manufacture'),\n",
    "                            'temporal_distribution': easy_timedelta_distribution(\n",
    "                                start=-24,\n",
    "                                end=-1,\n",
    "                                resolution=\"M\",\n",
    "                                steps=12,\n",
    "                                kind=\"triangular\",\n",
    "                                param=-12,\n",
    "                            ),\n",
    "                        },\n",
    "                    ],\n",
    "                },\n",
    "                ('newsteel'+ str(year), 'car-manufacture'): {\n",
    "                    'name': 'Manufacture the steel',\n",
    "                    'exchanges': [\n",
    "                        {\n",
    "                            'amount': CO2[index],  # CO2 to produce steel from electric car\n",
    "                            'input': ('newsteel'+ str(year), \"CO2\"),\n",
    "                            'type': 'biosphere'\n",
    "                        },\n",
    "                    ]\n",
    "                },\n",
    "            }\n",
    "    return bd.Database('newsteel'+ str(year)).write(database)"
   ]
  },
  {
   "cell_type": "code",
   "execution_count": 36,
   "id": "0de209fb-f8f9-4771-9498-b6359ba3ee8d",
   "metadata": {},
   "outputs": [],
   "source": [
    "#database_car_SSP1(2025, CO2_amount)"
   ]
  },
  {
   "cell_type": "code",
   "execution_count": 37,
   "id": "7687b4d8-a194-4647-9489-9fd4d1acdd25",
   "metadata": {},
   "outputs": [
    {
     "name": "stdout",
     "output_type": "stream",
     "text": [
      "10:12:50 [warning  ] Not able to determine geocollections for all datasets. This database is not ready for regionalization.\n"
     ]
    },
    {
     "name": "stderr",
     "output_type": "stream",
     "text": [
      "100%|████████████████████████████████████████████████████████████████████████████████████████████| 3/3 [00:00<?, ?it/s]\n"
     ]
    },
    {
     "name": "stdout",
     "output_type": "stream",
     "text": [
      "10:12:50 [info     ] Vacuuming database            \n",
      "10:15:30 [warning  ] Not able to determine geocollections for all datasets. This database is not ready for regionalization.\n"
     ]
    },
    {
     "name": "stderr",
     "output_type": "stream",
     "text": [
      "100%|██████████████████████████████████████████████████████████████████████████████████| 3/3 [00:00<00:00, 3007.39it/s]\n"
     ]
    },
    {
     "name": "stdout",
     "output_type": "stream",
     "text": [
      "10:15:30 [info     ] Vacuuming database            \n",
      "10:18:13 [warning  ] Not able to determine geocollections for all datasets. This database is not ready for regionalization.\n"
     ]
    },
    {
     "name": "stderr",
     "output_type": "stream",
     "text": [
      "100%|████████████████████████████████████████████████████████████████████████████████████████████| 3/3 [00:00<?, ?it/s]\n"
     ]
    },
    {
     "name": "stdout",
     "output_type": "stream",
     "text": [
      "10:18:13 [info     ] Vacuuming database            \n",
      "10:20:58 [warning  ] Not able to determine geocollections for all datasets. This database is not ready for regionalization.\n"
     ]
    },
    {
     "name": "stderr",
     "output_type": "stream",
     "text": [
      "100%|████████████████████████████████████████████████████████████████████████████████████████████| 3/3 [00:00<?, ?it/s]\n"
     ]
    },
    {
     "name": "stdout",
     "output_type": "stream",
     "text": [
      "10:20:58 [info     ] Vacuuming database            \n",
      "10:23:43 [warning  ] Not able to determine geocollections for all datasets. This database is not ready for regionalization.\n"
     ]
    },
    {
     "name": "stderr",
     "output_type": "stream",
     "text": [
      "100%|████████████████████████████████████████████████████████████████████████████████████████████| 3/3 [00:00<?, ?it/s]\n"
     ]
    },
    {
     "name": "stdout",
     "output_type": "stream",
     "text": [
      "10:23:43 [info     ] Vacuuming database            \n",
      "10:26:27 [warning  ] Not able to determine geocollections for all datasets. This database is not ready for regionalization.\n"
     ]
    },
    {
     "name": "stderr",
     "output_type": "stream",
     "text": [
      "100%|████████████████████████████████████████████████████████████████████████████████████████████| 3/3 [00:00<?, ?it/s]\n"
     ]
    },
    {
     "name": "stdout",
     "output_type": "stream",
     "text": [
      "10:26:27 [info     ] Vacuuming database            \n",
      "10:29:13 [warning  ] Not able to determine geocollections for all datasets. This database is not ready for regionalization.\n"
     ]
    },
    {
     "name": "stderr",
     "output_type": "stream",
     "text": [
      "100%|████████████████████████████████████████████████████████████████████████████████████████████| 3/3 [00:00<?, ?it/s]\n"
     ]
    },
    {
     "name": "stdout",
     "output_type": "stream",
     "text": [
      "10:29:13 [info     ] Vacuuming database            \n",
      "10:32:00 [warning  ] Not able to determine geocollections for all datasets. This database is not ready for regionalization.\n"
     ]
    },
    {
     "name": "stderr",
     "output_type": "stream",
     "text": [
      "100%|████████████████████████████████████████████████████████████████████████████████████████████| 3/3 [00:00<?, ?it/s]\n"
     ]
    },
    {
     "name": "stdout",
     "output_type": "stream",
     "text": [
      "10:32:00 [info     ] Vacuuming database            \n",
      "10:34:45 [warning  ] Not able to determine geocollections for all datasets. This database is not ready for regionalization.\n"
     ]
    },
    {
     "name": "stderr",
     "output_type": "stream",
     "text": [
      "100%|████████████████████████████████████████████████████████████████████████████████████████████| 3/3 [00:00<?, ?it/s]\n"
     ]
    },
    {
     "name": "stdout",
     "output_type": "stream",
     "text": [
      "10:34:45 [info     ] Vacuuming database            \n",
      "10:37:30 [warning  ] Not able to determine geocollections for all datasets. This database is not ready for regionalization.\n"
     ]
    },
    {
     "name": "stderr",
     "output_type": "stream",
     "text": [
      "100%|████████████████████████████████████████████████████████████████████████████████████████████| 3/3 [00:00<?, ?it/s]\n"
     ]
    },
    {
     "name": "stdout",
     "output_type": "stream",
     "text": [
      "10:37:31 [info     ] Vacuuming database            \n",
      "10:40:18 [warning  ] Not able to determine geocollections for all datasets. This database is not ready for regionalization.\n"
     ]
    },
    {
     "name": "stderr",
     "output_type": "stream",
     "text": [
      "100%|████████████████████████████████████████████████████████████████████████████████████████████| 3/3 [00:00<?, ?it/s]\n"
     ]
    },
    {
     "name": "stdout",
     "output_type": "stream",
     "text": [
      "10:40:18 [info     ] Vacuuming database            \n",
      "10:43:07 [warning  ] Not able to determine geocollections for all datasets. This database is not ready for regionalization.\n"
     ]
    },
    {
     "name": "stderr",
     "output_type": "stream",
     "text": [
      "100%|████████████████████████████████████████████████████████████████████████████████████████████| 3/3 [00:00<?, ?it/s]\n"
     ]
    },
    {
     "name": "stdout",
     "output_type": "stream",
     "text": [
      "10:43:07 [info     ] Vacuuming database            \n",
      "10:45:52 [warning  ] Not able to determine geocollections for all datasets. This database is not ready for regionalization.\n"
     ]
    },
    {
     "name": "stderr",
     "output_type": "stream",
     "text": [
      "100%|████████████████████████████████████████████████████████████████████████████████████████████| 3/3 [00:00<?, ?it/s]\n"
     ]
    },
    {
     "name": "stdout",
     "output_type": "stream",
     "text": [
      "10:45:53 [info     ] Vacuuming database            \n",
      "10:48:42 [warning  ] Not able to determine geocollections for all datasets. This database is not ready for regionalization.\n"
     ]
    },
    {
     "name": "stderr",
     "output_type": "stream",
     "text": [
      "100%|██████████████████████████████████████████████████████████████████████████████████| 3/3 [00:00<00:00, 3030.57it/s]\n"
     ]
    },
    {
     "name": "stdout",
     "output_type": "stream",
     "text": [
      "10:48:42 [info     ] Vacuuming database            \n",
      "10:51:29 [warning  ] Not able to determine geocollections for all datasets. This database is not ready for regionalization.\n"
     ]
    },
    {
     "name": "stderr",
     "output_type": "stream",
     "text": [
      "100%|████████████████████████████████████████████████████████████████████████████████████████████| 3/3 [00:00<?, ?it/s]\n"
     ]
    },
    {
     "name": "stdout",
     "output_type": "stream",
     "text": [
      "10:51:29 [info     ] Vacuuming database            \n",
      "10:54:17 [warning  ] Not able to determine geocollections for all datasets. This database is not ready for regionalization.\n"
     ]
    },
    {
     "name": "stderr",
     "output_type": "stream",
     "text": [
      "100%|████████████████████████████████████████████████████████████████████████████████████████████| 3/3 [00:00<?, ?it/s]\n"
     ]
    },
    {
     "name": "stdout",
     "output_type": "stream",
     "text": [
      "10:54:17 [info     ] Vacuuming database            \n",
      "10:57:13 [warning  ] Not able to determine geocollections for all datasets. This database is not ready for regionalization.\n"
     ]
    },
    {
     "name": "stderr",
     "output_type": "stream",
     "text": [
      "100%|████████████████████████████████████████████████████████████████████████████████████████████| 3/3 [00:00<?, ?it/s]\n"
     ]
    },
    {
     "name": "stdout",
     "output_type": "stream",
     "text": [
      "10:57:14 [info     ] Vacuuming database            \n",
      "11:00:03 [warning  ] Not able to determine geocollections for all datasets. This database is not ready for regionalization.\n"
     ]
    },
    {
     "name": "stderr",
     "output_type": "stream",
     "text": [
      "100%|████████████████████████████████████████████████████████████████████████████████████████████| 3/3 [00:00<?, ?it/s]\n"
     ]
    },
    {
     "name": "stdout",
     "output_type": "stream",
     "text": [
      "11:00:03 [info     ] Vacuuming database            \n",
      "11:02:51 [warning  ] Not able to determine geocollections for all datasets. This database is not ready for regionalization.\n"
     ]
    },
    {
     "name": "stderr",
     "output_type": "stream",
     "text": [
      "100%|████████████████████████████████████████████████████████████████████████████████████████████| 3/3 [00:00<?, ?it/s]\n"
     ]
    },
    {
     "name": "stdout",
     "output_type": "stream",
     "text": [
      "11:02:52 [info     ] Vacuuming database            \n",
      "11:05:38 [warning  ] Not able to determine geocollections for all datasets. This database is not ready for regionalization.\n"
     ]
    },
    {
     "name": "stderr",
     "output_type": "stream",
     "text": [
      "100%|████████████████████████████████████████████████████████████████████████████████████████████| 3/3 [00:00<?, ?it/s]\n"
     ]
    },
    {
     "name": "stdout",
     "output_type": "stream",
     "text": [
      "11:05:38 [info     ] Vacuuming database            \n",
      "11:08:24 [warning  ] Not able to determine geocollections for all datasets. This database is not ready for regionalization.\n"
     ]
    },
    {
     "name": "stderr",
     "output_type": "stream",
     "text": [
      "100%|████████████████████████████████████████████████████████████████████████████████████████████| 3/3 [00:00<?, ?it/s]\n"
     ]
    },
    {
     "name": "stdout",
     "output_type": "stream",
     "text": [
      "11:08:24 [info     ] Vacuuming database            \n",
      "11:11:11 [warning  ] Not able to determine geocollections for all datasets. This database is not ready for regionalization.\n"
     ]
    },
    {
     "name": "stderr",
     "output_type": "stream",
     "text": [
      "100%|████████████████████████████████████████████████████████████████████████████████████████████| 3/3 [00:00<?, ?it/s]\n"
     ]
    },
    {
     "name": "stdout",
     "output_type": "stream",
     "text": [
      "11:11:11 [info     ] Vacuuming database            \n",
      "11:13:59 [warning  ] Not able to determine geocollections for all datasets. This database is not ready for regionalization.\n"
     ]
    },
    {
     "name": "stderr",
     "output_type": "stream",
     "text": [
      "100%|████████████████████████████████████████████████████████████████████████████████████████████| 3/3 [00:00<?, ?it/s]\n"
     ]
    },
    {
     "name": "stdout",
     "output_type": "stream",
     "text": [
      "11:13:59 [info     ] Vacuuming database            \n",
      "11:16:48 [warning  ] Not able to determine geocollections for all datasets. This database is not ready for regionalization.\n"
     ]
    },
    {
     "name": "stderr",
     "output_type": "stream",
     "text": [
      "100%|████████████████████████████████████████████████████████████████████████████████████████████| 3/3 [00:00<?, ?it/s]\n"
     ]
    },
    {
     "name": "stdout",
     "output_type": "stream",
     "text": [
      "11:16:48 [info     ] Vacuuming database            \n",
      "11:19:40 [warning  ] Not able to determine geocollections for all datasets. This database is not ready for regionalization.\n"
     ]
    },
    {
     "name": "stderr",
     "output_type": "stream",
     "text": [
      "100%|████████████████████████████████████████████████████████████████████████████████████████████| 3/3 [00:00<?, ?it/s]\n"
     ]
    },
    {
     "name": "stdout",
     "output_type": "stream",
     "text": [
      "11:19:40 [info     ] Vacuuming database            \n",
      "11:22:32 [warning  ] Not able to determine geocollections for all datasets. This database is not ready for regionalization.\n"
     ]
    },
    {
     "name": "stderr",
     "output_type": "stream",
     "text": [
      "100%|████████████████████████████████████████████████████████████████████████████████████████████| 3/3 [00:00<?, ?it/s]\n"
     ]
    },
    {
     "name": "stdout",
     "output_type": "stream",
     "text": [
      "11:22:32 [info     ] Vacuuming database            \n"
     ]
    }
   ],
   "source": [
    "for i in range(26):\n",
    "    database_car_SSP1(2025+i, CO2_amount)"
   ]
  },
  {
   "cell_type": "code",
   "execution_count": 64,
   "id": "28e631ca-761e-44db-979e-27e4c35004bd",
   "metadata": {},
   "outputs": [],
   "source": [
    "bd.Method((\"GWP\", \"newsteel2025\")).write([\n",
    "    (('newsteel2025', \"CO2\"), 1),\n",
    "])"
   ]
  },
  {
   "cell_type": "code",
   "execution_count": 65,
   "id": "02c5440c-04ca-4424-a617-154447bbc876",
   "metadata": {},
   "outputs": [
    {
     "data": {
      "text/plain": [
       "4.28000020980835"
      ]
     },
     "execution_count": 65,
     "metadata": {},
     "output_type": "execute_result"
    }
   ],
   "source": [
    "firstlca = bc.LCA({('newsteel2050', 'electric-car'): 1}, (\"GWP\", \"newsteel2050\"))\n",
    "firstlca.lci()\n",
    "firstlca.lcia()\n",
    "firstlca.score"
   ]
  },
  {
   "cell_type": "code",
   "execution_count": 66,
   "id": "2027ed2c-b8a4-431d-9eb3-8e6c5fc85ff4",
   "metadata": {},
   "outputs": [
    {
     "name": "stdout",
     "output_type": "stream",
     "text": [
      "Starting graph traversal\n",
      "Calculation count: 1\n"
     ]
    }
   ],
   "source": [
    "tlca = TemporalisLCA(firstlca)"
   ]
  },
  {
   "cell_type": "code",
   "execution_count": 123,
   "id": "afb22416-2638-416c-a30c-65ff8627e0c1",
   "metadata": {},
   "outputs": [
    {
     "data": {
      "text/plain": [
       "\u001b[1;31mInit signature:\u001b[0m\n",
       "\u001b[0mTemporalisLCA\u001b[0m\u001b[1;33m(\u001b[0m\u001b[1;33m\n",
       "\u001b[0m    \u001b[0mlca_object\u001b[0m\u001b[1;33m:\u001b[0m \u001b[0mbw2calc\u001b[0m\u001b[1;33m.\u001b[0m\u001b[0mlca\u001b[0m\u001b[1;33m.\u001b[0m\u001b[0mLCA\u001b[0m\u001b[1;33m,\u001b[0m\u001b[1;33m\n",
       "\u001b[0m    \u001b[0mstarting_datetime\u001b[0m\u001b[1;33m:\u001b[0m \u001b[0mdatetime\u001b[0m\u001b[1;33m.\u001b[0m\u001b[0mdatetime\u001b[0m \u001b[1;33m|\u001b[0m \u001b[0mstr\u001b[0m \u001b[1;33m=\u001b[0m \u001b[1;34m'now'\u001b[0m\u001b[1;33m,\u001b[0m\u001b[1;33m\n",
       "\u001b[0m    \u001b[0mcutoff\u001b[0m\u001b[1;33m:\u001b[0m \u001b[0mfloat\u001b[0m \u001b[1;33m|\u001b[0m \u001b[1;32mNone\u001b[0m \u001b[1;33m=\u001b[0m \u001b[1;36m0.0005\u001b[0m\u001b[1;33m,\u001b[0m\u001b[1;33m\n",
       "\u001b[0m    \u001b[0mbiosphere_cutoff\u001b[0m\u001b[1;33m:\u001b[0m \u001b[0mfloat\u001b[0m \u001b[1;33m|\u001b[0m \u001b[1;32mNone\u001b[0m \u001b[1;33m=\u001b[0m \u001b[1;36m1e-06\u001b[0m\u001b[1;33m,\u001b[0m\u001b[1;33m\n",
       "\u001b[0m    \u001b[0mmax_calc\u001b[0m\u001b[1;33m:\u001b[0m \u001b[0mint\u001b[0m \u001b[1;33m|\u001b[0m \u001b[1;32mNone\u001b[0m \u001b[1;33m=\u001b[0m \u001b[1;36m2000\u001b[0m\u001b[1;33m,\u001b[0m\u001b[1;33m\n",
       "\u001b[0m    \u001b[0mstatic_activity_indices\u001b[0m\u001b[1;33m:\u001b[0m \u001b[0mset\u001b[0m\u001b[1;33m[\u001b[0m\u001b[0mint\u001b[0m\u001b[1;33m]\u001b[0m \u001b[1;33m|\u001b[0m \u001b[1;32mNone\u001b[0m \u001b[1;33m=\u001b[0m \u001b[1;32mNone\u001b[0m\u001b[1;33m,\u001b[0m\u001b[1;33m\n",
       "\u001b[0m    \u001b[0mskip_coproducts\u001b[0m\u001b[1;33m:\u001b[0m \u001b[0mbool\u001b[0m \u001b[1;33m|\u001b[0m \u001b[1;32mNone\u001b[0m \u001b[1;33m=\u001b[0m \u001b[1;32mFalse\u001b[0m\u001b[1;33m,\u001b[0m\u001b[1;33m\n",
       "\u001b[0m    \u001b[0mfunctional_unit_unique_id\u001b[0m\u001b[1;33m:\u001b[0m \u001b[0mint\u001b[0m \u001b[1;33m|\u001b[0m \u001b[1;32mNone\u001b[0m \u001b[1;33m=\u001b[0m \u001b[1;33m-\u001b[0m\u001b[1;36m1\u001b[0m\u001b[1;33m,\u001b[0m\u001b[1;33m\n",
       "\u001b[0m    \u001b[0mgraph_traversal\u001b[0m\u001b[1;33m:\u001b[0m \u001b[0mbw_graph_tools\u001b[0m\u001b[1;33m.\u001b[0m\u001b[0mgraph_traversal\u001b[0m\u001b[1;33m.\u001b[0m\u001b[0mnew_node_each_visit\u001b[0m\u001b[1;33m.\u001b[0m\u001b[0mNewNodeEachVisitGraphTraversal\u001b[0m \u001b[1;33m|\u001b[0m \u001b[1;32mNone\u001b[0m \u001b[1;33m=\u001b[0m \u001b[1;33m<\u001b[0m\u001b[1;32mclass\u001b[0m \u001b[1;34m'bw_graph_tools.graph_traversal.new_node_each_visit.NewNodeEachVisitGraphTraversal'\u001b[0m\u001b[1;33m>\u001b[0m\u001b[1;33m,\u001b[0m\u001b[1;33m\n",
       "\u001b[0m\u001b[1;33m)\u001b[0m\u001b[1;33m\u001b[0m\u001b[1;33m\u001b[0m\u001b[0m\n",
       "\u001b[1;31mDocstring:\u001b[0m     \n",
       "Calculate an LCA using graph traversal, with edges using temporal distributions.\n",
       "\n",
       "Edges with temporal distributions should store this information using `\"temporal_distributions\"`:\n",
       "\n",
       "```python\n",
       "    exchange[\"temporal_distribution\"] = bw_temporalis.TemporalDistribution(\n",
       "        times=numpy.array([-2, -1, 0, 1, 2], dtype=\"timedelta64[s]\"),\n",
       "        values=numpy.ones(5)\n",
       "    )\n",
       "```\n",
       "\n",
       "Temporal distribution times must always have the data type `timedelta64[s]`. Not all edges need to have temporal distributions.\n",
       "\n",
       "Temporal distributions are **not density functions** - their values should sum to the exchange amount.\n",
       "\n",
       "As graph traversal is much slower than matrix calculations, we can limit which nodes get traversed in several ways:\n",
       "\n",
       "* All activities in a database marked as `static`\n",
       "* Any activity ids passed in `static_activity_indices`\n",
       "* Any activities whose cumulative impact is below the cutoff score\n",
       "\n",
       "The output of a Temporalis LCA calculation is a `bw_temporalis.Timeline`, which can be characterized.\n",
       "\n",
       "Parameters\n",
       "----------\n",
       "lca_object : bw2calc.LCA\n",
       "    The already instantiated and calculated LCA class (i.e. `.lci()` and `.lcia()` have already been done)\n",
       "starting_datetime : datetime.datetime | str\n",
       "    When the functional unit happens. Must be a point in time. Normally something like `\"now\"` or `\"2023-01-01\"`.\n",
       "cutoff : float\n",
       "    The fraction of the total score below which graph traversal should stop. In range `(0, 1)`.\n",
       "biosphere_cutoff : float\n",
       "    The fraction of the total score below which we don't include separate biosphere nodes to be characterized in the `Timeline`. In range `(0, 1)`.\n",
       "max_calc : int\n",
       "    Total number of LCA inventory calculations to perform during graph traversal\n",
       "static_activity_indices : set[int]\n",
       "    Activity database node `id` values where graph traversal will stop\n",
       "skip_coproducts : bool\n",
       "    Should we also traverse edges for the other products in multioutput activities?\n",
       "functional_unit_unique_id : int\n",
       "    The unique id of the functional unit. Strongly recommended to leave as default.\n",
       "graph_traversal : bw_graph_tools.NewNodeEachVisitGraphTraversal\n",
       "    Optional subclass of `NewNodeEachVisitGraphTraversal` for advanced usage\n",
       "\u001b[1;31mFile:\u001b[0m           c:\\users\\damor\\miniconda3\\envs\\bw25_2\\lib\\site-packages\\bw_temporalis\\lca.py\n",
       "\u001b[1;31mType:\u001b[0m           type\n",
       "\u001b[1;31mSubclasses:\u001b[0m     "
      ]
     },
     "metadata": {},
     "output_type": "display_data"
    }
   ],
   "source": [
    "TemporalisLCA?"
   ]
  },
  {
   "cell_type": "code",
   "execution_count": 67,
   "id": "a688fbba-d378-4daf-905c-1d3509ace5a0",
   "metadata": {},
   "outputs": [],
   "source": [
    "tl = tlca.build_timeline()\n",
    "df = tl.build_dataframe()"
   ]
  },
  {
   "cell_type": "code",
   "execution_count": 77,
   "id": "e9cdba9b-6cc4-4050-a0b6-513585b7939a",
   "metadata": {},
   "outputs": [
    {
     "name": "stdout",
     "output_type": "stream",
     "text": [
      "                 date    amount    flow  activity  amount_sum\n",
      "0 2023-02-15 06:44:54  0.136464  352315    352317    0.136464\n",
      "1 2023-04-17 03:43:06  0.272928  352315    352317    0.409391\n",
      "2 2023-06-17 00:41:18  0.409391  352315    352317    0.818783\n",
      "3 2023-08-16 21:39:30  0.545855  352315    352317    1.364638\n",
      "4 2023-10-16 18:37:42  0.682319  352315    352317    2.046957\n",
      "5 2023-12-16 15:35:54  0.744348  352315    352317    2.791304\n",
      "6 2024-02-15 12:34:06  0.595478  352315    352317    3.386783\n",
      "7 2024-04-16 09:32:18  0.446609  352315    352317    3.833391\n",
      "8 2024-06-16 06:30:30  0.297739  352315    352317    4.131131\n",
      "9 2024-08-16 03:28:42  0.148870  352315    352317    4.280000\n"
     ]
    }
   ],
   "source": [
    "print(df)"
   ]
  },
  {
   "cell_type": "code",
   "execution_count": 90,
   "id": "77512b43-d0bd-4df3-bc75-e78ea348acfd",
   "metadata": {},
   "outputs": [
    {
     "data": {
      "text/plain": [
       "numpy.datetime64"
      ]
     },
     "execution_count": 90,
     "metadata": {},
     "output_type": "execute_result"
    }
   ],
   "source": [
    "a=df[\"date\"].copy()\n",
    "type(a.values[0])"
   ]
  },
  {
   "cell_type": "code",
   "execution_count": 114,
   "id": "0e45504b-6334-4054-98fc-1b07d2183cd6",
   "metadata": {},
   "outputs": [
    {
     "name": "stderr",
     "output_type": "stream",
     "text": [
      "C:\\Users\\damor\\AppData\\Local\\Temp\\ipykernel_19416\\2535186215.py:9: FutureWarning: ChainedAssignmentError: behaviour will change in pandas 3.0!\n",
      "You are setting values through chained assignment. Currently this works in certain cases, but when using Copy-on-Write (which will become the default behaviour in pandas 3.0) this will never work to update the original DataFrame or Series, because the intermediate object on which we are setting values will behave as a copy.\n",
      "A typical example is when you are setting values in a column of a DataFrame, like:\n",
      "\n",
      "df[\"col\"][row_indexer] = value\n",
      "\n",
      "Use `df.loc[row_indexer, \"col\"] = values` instead, to perform the assignment in a single step and ensure this keeps updating the original `df`.\n",
      "\n",
      "See the caveats in the documentation: https://pandas.pydata.org/pandas-docs/stable/user_guide/indexing.html#returning-a-view-versus-a-copy\n",
      "\n",
      "  testing_df['date_all'][i]=str(testing_df['datey'][i])+'-'+str(testing_df['datem'][i])\n",
      "C:\\Users\\damor\\AppData\\Local\\Temp\\ipykernel_19416\\2535186215.py:9: SettingWithCopyWarning: \n",
      "A value is trying to be set on a copy of a slice from a DataFrame\n",
      "\n",
      "See the caveats in the documentation: https://pandas.pydata.org/pandas-docs/stable/user_guide/indexing.html#returning-a-view-versus-a-copy\n",
      "  testing_df['date_all'][i]=str(testing_df['datey'][i])+'-'+str(testing_df['datem'][i])\n",
      "C:\\Users\\damor\\AppData\\Local\\Temp\\ipykernel_19416\\2535186215.py:9: FutureWarning: Setting an item of incompatible dtype is deprecated and will raise an error in a future version of pandas. Value '2048-2' has dtype incompatible with int32, please explicitly cast to a compatible dtype first.\n",
      "  testing_df['date_all'][i]=str(testing_df['datey'][i])+'-'+str(testing_df['datem'][i])\n"
     ]
    }
   ],
   "source": [
    "testing_df=df.copy()\n",
    "str(testing_df['date'].dt.year+25)#+ '-' +str(testing_df['date'].dt.month)\n",
    "# testing_df['date'][0]#.month()\n",
    "testing_df['datey']=testing_df['date'].dt.year+25\n",
    "testing_df['datem']=testing_df['date'].dt.month\n",
    "type(str(testing_df['datey'][0]))\n",
    "testing_df['date_all']=testing_df['datem']\n",
    "for i in range(len(testing_df['datey'])):\n",
    "    testing_df['date_all'][i]=str(testing_df['datey'][i])+'-'+str(testing_df['datem'][i])\n",
    "testing_df\n",
    "df=testing_df"
   ]
  },
  {
   "cell_type": "code",
   "execution_count": null,
   "id": "347f8012-7fcc-431e-b111-cdff16dfc775",
   "metadata": {},
   "outputs": [],
   "source": [
    "list_date=[2048,2048]"
   ]
  },
  {
   "cell_type": "code",
   "execution_count": 121,
   "id": "a00f6408-812d-4237-b31d-7bc46c78a156",
   "metadata": {},
   "outputs": [
    {
     "data": {
      "image/png": "[encoded data removed]",
      "text/plain": [
       "<Figure size 640x480 with 1 Axes>"
      ]
     },
     "metadata": {},
     "output_type": "display_data"
    }
   ],
   "source": [
    "axes = sb.scatterplot(\n",
    "    x=\"date_all\", \n",
    "    y=\"amount\",\n",
    "    hue=\"code\",\n",
    "    data=df.merge(\n",
    "        bd.Database('newsteel2050').nodes_to_dataframe().rename(columns={'id': 'activity'}), \n",
    "        on='activity'\n",
    "    )\n",
    ")\n",
    "axes.set_ylabel(\"$CO_{2}$ emissions (kg)\")\n",
    "axes.set_xlabel(\"Time (years)\")\n",
    "axes.tick_params(axis='x', rotation=90)"
   ]
  },
  {
   "cell_type": "code",
   "execution_count": 122,
   "id": "916aa12c-cf92-4779-8867-b6577564ed78",
   "metadata": {},
   "outputs": [
    {
     "data": {
      "text/plain": [
       "Text(0.5, 0, 'Time (years)')"
      ]
     },
     "execution_count": 122,
     "metadata": {},
     "output_type": "execute_result"
    },
    {
     "data": {
      "image/png": "[encoded data removed]",
      "text/plain": [
       "<Figure size 640x480 with 1 Axes>"
      ]
     },
     "metadata": {},
     "output_type": "display_data"
    }
   ],
   "source": [
    "df[\"amount_sum\"] = df['amount'].cumsum()\n",
    "axes = df.plot(x=\"date_all\", y=\"amount_sum\")\n",
    "axes.set_ylabel(\"Cumulative $CO_{2}$ emissions (kg)\")\n",
    "axes.set_xlabel(\"Time (years)\")"
   ]
  },
  {
   "cell_type": "code",
   "execution_count": 128,
   "id": "2b1a5712-9c91-4bad-ba60-0dc771bdf2a9",
   "metadata": {},
   "outputs": [],
   "source": [
    "def tempLCA(name,year):\n",
    "    bd.Method((\"GWP\", name)).write([\n",
    "    ((name, \"CO2\"), 1),\n",
    "    ])\n",
    "    firstlca = bc.LCA({(name, 'electric-car'): 1}, (\"GWP\", name))\n",
    "    firstlca.lci()\n",
    "    firstlca.lcia()\n",
    "    firstlca.score\n",
    "    tlca = TemporalisLCA(firstlca,starting_datetime=datetime.datetime(year, 1, 1))\n",
    "    return tlca\n",
    "    \n",
    "    \n",
    "    "
   ]
  },
  {
   "cell_type": "code",
   "execution_count": 127,
   "id": "a2c7b6b2-2b84-4de9-98d5-d47476809820",
   "metadata": {
    "scrolled": true
   },
   "outputs": [
    {
     "data": {
      "text/plain": [
       "\u001b[1;31mInit signature:\u001b[0m\n",
       "\u001b[0mTemporalisLCA\u001b[0m\u001b[1;33m(\u001b[0m\u001b[1;33m\n",
       "\u001b[0m    \u001b[0mlca_object\u001b[0m\u001b[1;33m:\u001b[0m \u001b[0mbw2calc\u001b[0m\u001b[1;33m.\u001b[0m\u001b[0mlca\u001b[0m\u001b[1;33m.\u001b[0m\u001b[0mLCA\u001b[0m\u001b[1;33m,\u001b[0m\u001b[1;33m\n",
       "\u001b[0m    \u001b[0mstarting_datetime\u001b[0m\u001b[1;33m:\u001b[0m \u001b[0mdatetime\u001b[0m\u001b[1;33m.\u001b[0m\u001b[0mdatetime\u001b[0m \u001b[1;33m|\u001b[0m \u001b[0mstr\u001b[0m \u001b[1;33m=\u001b[0m \u001b[1;34m'now'\u001b[0m\u001b[1;33m,\u001b[0m\u001b[1;33m\n",
       "\u001b[0m    \u001b[0mcutoff\u001b[0m\u001b[1;33m:\u001b[0m \u001b[0mfloat\u001b[0m \u001b[1;33m|\u001b[0m \u001b[1;32mNone\u001b[0m \u001b[1;33m=\u001b[0m \u001b[1;36m0.0005\u001b[0m\u001b[1;33m,\u001b[0m\u001b[1;33m\n",
       "\u001b[0m    \u001b[0mbiosphere_cutoff\u001b[0m\u001b[1;33m:\u001b[0m \u001b[0mfloat\u001b[0m \u001b[1;33m|\u001b[0m \u001b[1;32mNone\u001b[0m \u001b[1;33m=\u001b[0m \u001b[1;36m1e-06\u001b[0m\u001b[1;33m,\u001b[0m\u001b[1;33m\n",
       "\u001b[0m    \u001b[0mmax_calc\u001b[0m\u001b[1;33m:\u001b[0m \u001b[0mint\u001b[0m \u001b[1;33m|\u001b[0m \u001b[1;32mNone\u001b[0m \u001b[1;33m=\u001b[0m \u001b[1;36m2000\u001b[0m\u001b[1;33m,\u001b[0m\u001b[1;33m\n",
       "\u001b[0m    \u001b[0mstatic_activity_indices\u001b[0m\u001b[1;33m:\u001b[0m \u001b[0mset\u001b[0m\u001b[1;33m[\u001b[0m\u001b[0mint\u001b[0m\u001b[1;33m]\u001b[0m \u001b[1;33m|\u001b[0m \u001b[1;32mNone\u001b[0m \u001b[1;33m=\u001b[0m \u001b[1;32mNone\u001b[0m\u001b[1;33m,\u001b[0m\u001b[1;33m\n",
       "\u001b[0m    \u001b[0mskip_coproducts\u001b[0m\u001b[1;33m:\u001b[0m \u001b[0mbool\u001b[0m \u001b[1;33m|\u001b[0m \u001b[1;32mNone\u001b[0m \u001b[1;33m=\u001b[0m \u001b[1;32mFalse\u001b[0m\u001b[1;33m,\u001b[0m\u001b[1;33m\n",
       "\u001b[0m    \u001b[0mfunctional_unit_unique_id\u001b[0m\u001b[1;33m:\u001b[0m \u001b[0mint\u001b[0m \u001b[1;33m|\u001b[0m \u001b[1;32mNone\u001b[0m \u001b[1;33m=\u001b[0m \u001b[1;33m-\u001b[0m\u001b[1;36m1\u001b[0m\u001b[1;33m,\u001b[0m\u001b[1;33m\n",
       "\u001b[0m    \u001b[0mgraph_traversal\u001b[0m\u001b[1;33m:\u001b[0m \u001b[0mbw_graph_tools\u001b[0m\u001b[1;33m.\u001b[0m\u001b[0mgraph_traversal\u001b[0m\u001b[1;33m.\u001b[0m\u001b[0mnew_node_each_visit\u001b[0m\u001b[1;33m.\u001b[0m\u001b[0mNewNodeEachVisitGraphTraversal\u001b[0m \u001b[1;33m|\u001b[0m \u001b[1;32mNone\u001b[0m \u001b[1;33m=\u001b[0m \u001b[1;33m<\u001b[0m\u001b[1;32mclass\u001b[0m \u001b[1;34m'bw_graph_tools.graph_traversal.new_node_each_visit.NewNodeEachVisitGraphTraversal'\u001b[0m\u001b[1;33m>\u001b[0m\u001b[1;33m,\u001b[0m\u001b[1;33m\n",
       "\u001b[0m\u001b[1;33m)\u001b[0m\u001b[1;33m\u001b[0m\u001b[1;33m\u001b[0m\u001b[0m\n",
       "\u001b[1;31mDocstring:\u001b[0m     \n",
       "Calculate an LCA using graph traversal, with edges using temporal distributions.\n",
       "\n",
       "Edges with temporal distributions should store this information using `\"temporal_distributions\"`:\n",
       "\n",
       "```python\n",
       "    exchange[\"temporal_distribution\"] = bw_temporalis.TemporalDistribution(\n",
       "        times=numpy.array([-2, -1, 0, 1, 2], dtype=\"timedelta64[s]\"),\n",
       "        values=numpy.ones(5)\n",
       "    )\n",
       "```\n",
       "\n",
       "Temporal distribution times must always have the data type `timedelta64[s]`. Not all edges need to have temporal distributions.\n",
       "\n",
       "Temporal distributions are **not density functions** - their values should sum to the exchange amount.\n",
       "\n",
       "As graph traversal is much slower than matrix calculations, we can limit which nodes get traversed in several ways:\n",
       "\n",
       "* All activities in a database marked as `static`\n",
       "* Any activity ids passed in `static_activity_indices`\n",
       "* Any activities whose cumulative impact is below the cutoff score\n",
       "\n",
       "The output of a Temporalis LCA calculation is a `bw_temporalis.Timeline`, which can be characterized.\n",
       "\n",
       "Parameters\n",
       "----------\n",
       "lca_object : bw2calc.LCA\n",
       "    The already instantiated and calculated LCA class (i.e. `.lci()` and `.lcia()` have already been done)\n",
       "starting_datetime : datetime.datetime | str\n",
       "    When the functional unit happens. Must be a point in time. Normally something like `\"now\"` or `\"2023-01-01\"`.\n",
       "cutoff : float\n",
       "    The fraction of the total score below which graph traversal should stop. In range `(0, 1)`.\n",
       "biosphere_cutoff : float\n",
       "    The fraction of the total score below which we don't include separate biosphere nodes to be characterized in the `Timeline`. In range `(0, 1)`.\n",
       "max_calc : int\n",
       "    Total number of LCA inventory calculations to perform during graph traversal\n",
       "static_activity_indices : set[int]\n",
       "    Activity database node `id` values where graph traversal will stop\n",
       "skip_coproducts : bool\n",
       "    Should we also traverse edges for the other products in multioutput activities?\n",
       "functional_unit_unique_id : int\n",
       "    The unique id of the functional unit. Strongly recommended to leave as default.\n",
       "graph_traversal : bw_graph_tools.NewNodeEachVisitGraphTraversal\n",
       "    Optional subclass of `NewNodeEachVisitGraphTraversal` for advanced usage\n",
       "\u001b[1;31mFile:\u001b[0m           c:\\users\\damor\\miniconda3\\envs\\bw25_2\\lib\\site-packages\\bw_temporalis\\lca.py\n",
       "\u001b[1;31mType:\u001b[0m           type\n",
       "\u001b[1;31mSubclasses:\u001b[0m     "
      ]
     },
     "metadata": {},
     "output_type": "display_data"
    }
   ],
   "source": [
    "TemporalisLCA?\n",
    "# name"
   ]
  },
  {
   "cell_type": "code",
   "execution_count": 61,
   "id": "e4159534-fd23-47c0-873d-a0a5d4ad97c1",
   "metadata": {},
   "outputs": [
    {
     "name": "stdout",
     "output_type": "stream",
     "text": [
      "Starting graph traversal\n",
      "Calculation count: 1\n"
     ]
    }
   ],
   "source": [
    "tl=tempLCA('newsteel2050')"
   ]
  },
  {
   "cell_type": "code",
   "execution_count": 62,
   "id": "a237f84a-23c5-4294-aa7b-0d27c0877739",
   "metadata": {},
   "outputs": [],
   "source": [
    "tl = tlca.build_timeline()\n",
    "df = tl.build_dataframe()"
   ]
  },
  {
   "cell_type": "code",
   "execution_count": 63,
   "id": "269aa2a0-00c3-47d9-a219-d720603742ee",
   "metadata": {},
   "outputs": [
    {
     "data": {
      "text/plain": [
       "Text(0.5, 0, 'Time (years)')"
      ]
     },
     "execution_count": 63,
     "metadata": {},
     "output_type": "execute_result"
    },
    {
     "data": {
      "image/png": "[encoded data removed]",
      "text/plain": [
       "<Figure size 640x480 with 1 Axes>"
      ]
     },
     "metadata": {},
     "output_type": "display_data"
    }
   ],
   "source": [
    "df[\"amount_sum\"] = df['amount'].cumsum()\n",
    "axes = df.plot(x=\"date\", y=\"amount_sum\")\n",
    "axes.set_ylabel(\"Cumulative $CO_{2}$ emissions (kg)\")\n",
    "axes.set_xlabel(\"Time (years)\")"
   ]
  },
  {
   "cell_type": "code",
   "execution_count": 183,
   "id": "f992ac20-98c5-4555-a668-343e089b4d17",
   "metadata": {},
   "outputs": [
    {
     "name": "stdout",
     "output_type": "stream",
     "text": [
      "Starting graph traversal\n",
      "Calculation count: 1\n",
      "Starting graph traversal\n",
      "Calculation count: 1\n",
      "Starting graph traversal\n",
      "Calculation count: 1\n",
      "Starting graph traversal\n",
      "Calculation count: 1\n",
      "Starting graph traversal\n",
      "Calculation count: 1\n",
      "Starting graph traversal\n",
      "Calculation count: 1\n",
      "Starting graph traversal\n",
      "Calculation count: 1\n",
      "Starting graph traversal\n",
      "Calculation count: 1\n",
      "Starting graph traversal\n",
      "Calculation count: 1\n",
      "Starting graph traversal\n",
      "Calculation count: 1\n",
      "Starting graph traversal\n",
      "Calculation count: 1\n",
      "Starting graph traversal\n",
      "Calculation count: 1\n",
      "Starting graph traversal\n",
      "Calculation count: 1\n",
      "Starting graph traversal\n",
      "Calculation count: 1\n",
      "Starting graph traversal\n",
      "Calculation count: 1\n",
      "Starting graph traversal\n",
      "Calculation count: 1\n",
      "Starting graph traversal\n",
      "Calculation count: 1\n",
      "Starting graph traversal\n",
      "Calculation count: 1\n",
      "Starting graph traversal\n",
      "Calculation count: 1\n",
      "Starting graph traversal\n",
      "Calculation count: 1\n",
      "Starting graph traversal\n",
      "Calculation count: 1\n",
      "Starting graph traversal\n",
      "Calculation count: 1\n",
      "Starting graph traversal\n",
      "Calculation count: 1\n",
      "Starting graph traversal\n",
      "Calculation count: 1\n",
      "Starting graph traversal\n",
      "Calculation count: 1\n",
      "Starting graph traversal\n",
      "Calculation count: 1\n"
     ]
    }
   ],
   "source": [
    "import datetime\n",
    "list_tlca_car=[]\n",
    "for i in range(26):\n",
    "    tlca=tempLCA('newsteel'+str(2025+i),i+2024)\n",
    "    list_tlca_car+=[tlca]\n",
    "\n",
    "    "
   ]
  },
  {
   "cell_type": "code",
   "execution_count": 58,
   "id": "01d88413-09bc-4be8-9a5f-fc262d53a4a5",
   "metadata": {},
   "outputs": [
    {
     "name": "stdout",
     "output_type": "stream",
     "text": [
      "[<bw_temporalis.lca.TemporalisLCA object at 0x00000270DFC58150>, <bw_temporalis.lca.TemporalisLCA object at 0x00000270DFC78AD0>, <bw_temporalis.lca.TemporalisLCA object at 0x00000270E0536FD0>, <bw_temporalis.lca.TemporalisLCA object at 0x00000270DFCA49D0>, <bw_temporalis.lca.TemporalisLCA object at 0x00000270DFCB2F90>, <bw_temporalis.lca.TemporalisLCA object at 0x00000270DFCC2B50>, <bw_temporalis.lca.TemporalisLCA object at 0x00000270E04BFA10>, <bw_temporalis.lca.TemporalisLCA object at 0x00000270DFCC32D0>, <bw_temporalis.lca.TemporalisLCA object at 0x00000270DFCD9790>, <bw_temporalis.lca.TemporalisLCA object at 0x00000270DFD03410>, <bw_temporalis.lca.TemporalisLCA object at 0x00000270DFD26A90>, <bw_temporalis.lca.TemporalisLCA object at 0x00000270DFD1D690>, <bw_temporalis.lca.TemporalisLCA object at 0x00000270DFC88550>, <bw_temporalis.lca.TemporalisLCA object at 0x00000270E0769E50>, <bw_temporalis.lca.TemporalisLCA object at 0x00000270E0788150>, <bw_temporalis.lca.TemporalisLCA object at 0x00000270E0789E50>, <bw_temporalis.lca.TemporalisLCA object at 0x00000270E07B6850>, <bw_temporalis.lca.TemporalisLCA object at 0x00000270E07B7F50>, <bw_temporalis.lca.TemporalisLCA object at 0x00000270E07E6590>, <bw_temporalis.lca.TemporalisLCA object at 0x00000270E05349D0>, <bw_temporalis.lca.TemporalisLCA object at 0x00000270DFCCFA10>, <bw_temporalis.lca.TemporalisLCA object at 0x00000270E07D1E50>, <bw_temporalis.lca.TemporalisLCA object at 0x00000270E0804290>, <bw_temporalis.lca.TemporalisLCA object at 0x00000270E083D810>, <bw_temporalis.lca.TemporalisLCA object at 0x00000270E0850B50>, <bw_temporalis.lca.TemporalisLCA object at 0x00000270E085C290>]\n"
     ]
    }
   ],
   "source": [
    "print(list_tlca_car)"
   ]
  },
  {
   "cell_type": "code",
   "execution_count": 184,
   "id": "e77d4a21-d14f-40f8-8d80-3d1dfa9eb32a",
   "metadata": {},
   "outputs": [],
   "source": [
    "list_df_car=[]\n",
    "for i in list_tlca_car:\n",
    "    tl = i.build_timeline()\n",
    "    df = tl.build_dataframe()\n",
    "    list_df_car+= [df]"
   ]
  },
  {
   "cell_type": "code",
   "execution_count": 187,
   "id": "3a652c48-1623-492e-8976-110955a0955c",
   "metadata": {
    "scrolled": true
   },
   "outputs": [
    {
     "data": {
      "text/html": [
       "<div>\n",
       "<style scoped>\n",
       "    .dataframe tbody tr th:only-of-type {\n",
       "        vertical-align: middle;\n",
       "    }\n",
       "\n",
       "    .dataframe tbody tr th {\n",
       "        vertical-align: top;\n",
       "    }\n",
       "\n",
       "    .dataframe thead th {\n",
       "        text-align: right;\n",
       "    }\n",
       "</style>\n",
       "<table border=\"1\" class=\"dataframe\">\n",
       "  <thead>\n",
       "    <tr style=\"text-align: right;\">\n",
       "      <th></th>\n",
       "      <th>date</th>\n",
       "      <th>amount</th>\n",
       "      <th>flow</th>\n",
       "      <th>activity</th>\n",
       "    </tr>\n",
       "  </thead>\n",
       "  <tbody>\n",
       "    <tr>\n",
       "      <th>0</th>\n",
       "      <td>2022-04-01 19:48:54</td>\n",
       "      <td>0.350725</td>\n",
       "      <td>352240</td>\n",
       "      <td>352242</td>\n",
       "    </tr>\n",
       "    <tr>\n",
       "      <th>1</th>\n",
       "      <td>2022-06-01 16:47:06</td>\n",
       "      <td>0.701449</td>\n",
       "      <td>352240</td>\n",
       "      <td>352242</td>\n",
       "    </tr>\n",
       "    <tr>\n",
       "      <th>2</th>\n",
       "      <td>2022-08-01 13:45:18</td>\n",
       "      <td>1.052174</td>\n",
       "      <td>352240</td>\n",
       "      <td>352242</td>\n",
       "    </tr>\n",
       "    <tr>\n",
       "      <th>3</th>\n",
       "      <td>2022-10-01 10:43:30</td>\n",
       "      <td>1.402899</td>\n",
       "      <td>352240</td>\n",
       "      <td>352242</td>\n",
       "    </tr>\n",
       "    <tr>\n",
       "      <th>4</th>\n",
       "      <td>2022-12-01 07:41:42</td>\n",
       "      <td>1.753623</td>\n",
       "      <td>352240</td>\n",
       "      <td>352242</td>\n",
       "    </tr>\n",
       "    <tr>\n",
       "      <th>5</th>\n",
       "      <td>2023-01-31 04:39:54</td>\n",
       "      <td>1.913043</td>\n",
       "      <td>352240</td>\n",
       "      <td>352242</td>\n",
       "    </tr>\n",
       "    <tr>\n",
       "      <th>6</th>\n",
       "      <td>2023-04-02 01:38:06</td>\n",
       "      <td>1.530435</td>\n",
       "      <td>352240</td>\n",
       "      <td>352242</td>\n",
       "    </tr>\n",
       "    <tr>\n",
       "      <th>7</th>\n",
       "      <td>2023-06-01 22:36:18</td>\n",
       "      <td>1.147826</td>\n",
       "      <td>352240</td>\n",
       "      <td>352242</td>\n",
       "    </tr>\n",
       "    <tr>\n",
       "      <th>8</th>\n",
       "      <td>2023-08-01 19:34:30</td>\n",
       "      <td>0.765217</td>\n",
       "      <td>352240</td>\n",
       "      <td>352242</td>\n",
       "    </tr>\n",
       "    <tr>\n",
       "      <th>9</th>\n",
       "      <td>2023-10-01 16:32:42</td>\n",
       "      <td>0.382609</td>\n",
       "      <td>352240</td>\n",
       "      <td>352242</td>\n",
       "    </tr>\n",
       "  </tbody>\n",
       "</table>\n",
       "</div>"
      ],
      "text/plain": [
       "                 date    amount    flow  activity\n",
       "0 2022-04-01 19:48:54  0.350725  352240    352242\n",
       "1 2022-06-01 16:47:06  0.701449  352240    352242\n",
       "2 2022-08-01 13:45:18  1.052174  352240    352242\n",
       "3 2022-10-01 10:43:30  1.402899  352240    352242\n",
       "4 2022-12-01 07:41:42  1.753623  352240    352242\n",
       "5 2023-01-31 04:39:54  1.913043  352240    352242\n",
       "6 2023-04-02 01:38:06  1.530435  352240    352242\n",
       "7 2023-06-01 22:36:18  1.147826  352240    352242\n",
       "8 2023-08-01 19:34:30  0.765217  352240    352242\n",
       "9 2023-10-01 16:32:42  0.382609  352240    352242"
      ]
     },
     "execution_count": 187,
     "metadata": {},
     "output_type": "execute_result"
    }
   ],
   "source": [
    "list_df_car[0]"
   ]
  },
  {
   "cell_type": "code",
   "execution_count": 151,
   "id": "cd1c4627-7bbb-4f6d-abcc-55904a172dfb",
   "metadata": {},
   "outputs": [
    {
     "data": {
      "text/html": [
       "<div>\n",
       "<style scoped>\n",
       "    .dataframe tbody tr th:only-of-type {\n",
       "        vertical-align: middle;\n",
       "    }\n",
       "\n",
       "    .dataframe tbody tr th {\n",
       "        vertical-align: top;\n",
       "    }\n",
       "\n",
       "    .dataframe thead th {\n",
       "        text-align: right;\n",
       "    }\n",
       "</style>\n",
       "<table border=\"1\" class=\"dataframe\">\n",
       "  <thead>\n",
       "    <tr style=\"text-align: right;\">\n",
       "      <th></th>\n",
       "      <th>date</th>\n",
       "      <th>amount</th>\n",
       "      <th>flow</th>\n",
       "      <th>activity</th>\n",
       "      <th>amount_sum</th>\n",
       "    </tr>\n",
       "  </thead>\n",
       "  <tbody>\n",
       "    <tr>\n",
       "      <th>0</th>\n",
       "      <td>2023-04-02 19:48:54</td>\n",
       "      <td>0.342154</td>\n",
       "      <td>352243</td>\n",
       "      <td>352245</td>\n",
       "      <td>0.342154</td>\n",
       "    </tr>\n",
       "    <tr>\n",
       "      <th>1</th>\n",
       "      <td>2023-06-02 16:47:06</td>\n",
       "      <td>0.684308</td>\n",
       "      <td>352243</td>\n",
       "      <td>352245</td>\n",
       "      <td>1.026463</td>\n",
       "    </tr>\n",
       "    <tr>\n",
       "      <th>2</th>\n",
       "      <td>2023-08-02 13:45:18</td>\n",
       "      <td>1.026463</td>\n",
       "      <td>352243</td>\n",
       "      <td>352245</td>\n",
       "      <td>2.052925</td>\n",
       "    </tr>\n",
       "    <tr>\n",
       "      <th>3</th>\n",
       "      <td>2023-10-02 10:43:30</td>\n",
       "      <td>1.368617</td>\n",
       "      <td>352243</td>\n",
       "      <td>352245</td>\n",
       "      <td>3.421542</td>\n",
       "    </tr>\n",
       "    <tr>\n",
       "      <th>4</th>\n",
       "      <td>2023-12-02 07:41:42</td>\n",
       "      <td>1.710771</td>\n",
       "      <td>352243</td>\n",
       "      <td>352245</td>\n",
       "      <td>5.132313</td>\n",
       "    </tr>\n",
       "    <tr>\n",
       "      <th>5</th>\n",
       "      <td>2024-02-01 04:39:54</td>\n",
       "      <td>1.866296</td>\n",
       "      <td>352243</td>\n",
       "      <td>352245</td>\n",
       "      <td>6.998609</td>\n",
       "    </tr>\n",
       "    <tr>\n",
       "      <th>6</th>\n",
       "      <td>2024-04-02 01:38:06</td>\n",
       "      <td>1.493037</td>\n",
       "      <td>352243</td>\n",
       "      <td>352245</td>\n",
       "      <td>8.491645</td>\n",
       "    </tr>\n",
       "    <tr>\n",
       "      <th>7</th>\n",
       "      <td>2024-06-01 22:36:18</td>\n",
       "      <td>1.119777</td>\n",
       "      <td>352243</td>\n",
       "      <td>352245</td>\n",
       "      <td>9.611423</td>\n",
       "    </tr>\n",
       "    <tr>\n",
       "      <th>8</th>\n",
       "      <td>2024-08-01 19:34:30</td>\n",
       "      <td>0.746518</td>\n",
       "      <td>352243</td>\n",
       "      <td>352245</td>\n",
       "      <td>10.357941</td>\n",
       "    </tr>\n",
       "    <tr>\n",
       "      <th>9</th>\n",
       "      <td>2024-10-01 16:32:42</td>\n",
       "      <td>0.373259</td>\n",
       "      <td>352243</td>\n",
       "      <td>352245</td>\n",
       "      <td>10.731200</td>\n",
       "    </tr>\n",
       "  </tbody>\n",
       "</table>\n",
       "</div>"
      ],
      "text/plain": [
       "                 date    amount    flow  activity  amount_sum\n",
       "0 2023-04-02 19:48:54  0.342154  352243    352245    0.342154\n",
       "1 2023-06-02 16:47:06  0.684308  352243    352245    1.026463\n",
       "2 2023-08-02 13:45:18  1.026463  352243    352245    2.052925\n",
       "3 2023-10-02 10:43:30  1.368617  352243    352245    3.421542\n",
       "4 2023-12-02 07:41:42  1.710771  352243    352245    5.132313\n",
       "5 2024-02-01 04:39:54  1.866296  352243    352245    6.998609\n",
       "6 2024-04-02 01:38:06  1.493037  352243    352245    8.491645\n",
       "7 2024-06-01 22:36:18  1.119777  352243    352245    9.611423\n",
       "8 2024-08-01 19:34:30  0.746518  352243    352245   10.357941\n",
       "9 2024-10-01 16:32:42  0.373259  352243    352245   10.731200"
      ]
     },
     "execution_count": 151,
     "metadata": {},
     "output_type": "execute_result"
    }
   ],
   "source": [
    "list_df_car[1]"
   ]
  },
  {
   "cell_type": "code",
   "execution_count": 147,
   "id": "297fe17f-5336-4ca0-a230-8eb60565ffbe",
   "metadata": {},
   "outputs": [],
   "source": [
    "import matplotlib.pyplot as plt\n"
   ]
  },
  {
   "cell_type": "code",
   "execution_count": 190,
   "id": "7f27f94e-3414-4b0a-9cb5-e8dd0a73afd9",
   "metadata": {},
   "outputs": [
    {
     "data": {
      "text/html": [
       "<div>\n",
       "<style scoped>\n",
       "    .dataframe tbody tr th:only-of-type {\n",
       "        vertical-align: middle;\n",
       "    }\n",
       "\n",
       "    .dataframe tbody tr th {\n",
       "        vertical-align: top;\n",
       "    }\n",
       "\n",
       "    .dataframe thead th {\n",
       "        text-align: right;\n",
       "    }\n",
       "</style>\n",
       "<table border=\"1\" class=\"dataframe\">\n",
       "  <thead>\n",
       "    <tr style=\"text-align: right;\">\n",
       "      <th></th>\n",
       "      <th>date</th>\n",
       "      <th>amount</th>\n",
       "      <th>flow</th>\n",
       "      <th>activity</th>\n",
       "    </tr>\n",
       "  </thead>\n",
       "  <tbody>\n",
       "    <tr>\n",
       "      <th>0</th>\n",
       "      <td>2023-04-02 01:01:01</td>\n",
       "      <td>0.342154</td>\n",
       "      <td>352243</td>\n",
       "      <td>352245</td>\n",
       "    </tr>\n",
       "    <tr>\n",
       "      <th>1</th>\n",
       "      <td>2023-06-02 01:01:01</td>\n",
       "      <td>0.684308</td>\n",
       "      <td>352243</td>\n",
       "      <td>352245</td>\n",
       "    </tr>\n",
       "    <tr>\n",
       "      <th>2</th>\n",
       "      <td>2023-08-02 01:01:01</td>\n",
       "      <td>1.026463</td>\n",
       "      <td>352243</td>\n",
       "      <td>352245</td>\n",
       "    </tr>\n",
       "    <tr>\n",
       "      <th>3</th>\n",
       "      <td>2023-10-02 01:01:01</td>\n",
       "      <td>1.368617</td>\n",
       "      <td>352243</td>\n",
       "      <td>352245</td>\n",
       "    </tr>\n",
       "    <tr>\n",
       "      <th>4</th>\n",
       "      <td>2023-12-02 01:01:01</td>\n",
       "      <td>1.710771</td>\n",
       "      <td>352243</td>\n",
       "      <td>352245</td>\n",
       "    </tr>\n",
       "    <tr>\n",
       "      <th>5</th>\n",
       "      <td>2024-02-01 01:01:01</td>\n",
       "      <td>1.866296</td>\n",
       "      <td>352243</td>\n",
       "      <td>352245</td>\n",
       "    </tr>\n",
       "    <tr>\n",
       "      <th>6</th>\n",
       "      <td>2024-04-02 01:01:01</td>\n",
       "      <td>1.493037</td>\n",
       "      <td>352243</td>\n",
       "      <td>352245</td>\n",
       "    </tr>\n",
       "    <tr>\n",
       "      <th>7</th>\n",
       "      <td>2024-06-01 01:01:01</td>\n",
       "      <td>1.119777</td>\n",
       "      <td>352243</td>\n",
       "      <td>352245</td>\n",
       "    </tr>\n",
       "    <tr>\n",
       "      <th>8</th>\n",
       "      <td>2024-08-01 01:01:01</td>\n",
       "      <td>0.746518</td>\n",
       "      <td>352243</td>\n",
       "      <td>352245</td>\n",
       "    </tr>\n",
       "    <tr>\n",
       "      <th>9</th>\n",
       "      <td>2024-10-01 01:01:01</td>\n",
       "      <td>0.373259</td>\n",
       "      <td>352243</td>\n",
       "      <td>352245</td>\n",
       "    </tr>\n",
       "  </tbody>\n",
       "</table>\n",
       "</div>"
      ],
      "text/plain": [
       "                 date    amount    flow  activity\n",
       "0 2023-04-02 01:01:01  0.342154  352243    352245\n",
       "1 2023-06-02 01:01:01  0.684308  352243    352245\n",
       "2 2023-08-02 01:01:01  1.026463  352243    352245\n",
       "3 2023-10-02 01:01:01  1.368617  352243    352245\n",
       "4 2023-12-02 01:01:01  1.710771  352243    352245\n",
       "5 2024-02-01 01:01:01  1.866296  352243    352245\n",
       "6 2024-04-02 01:01:01  1.493037  352243    352245\n",
       "7 2024-06-01 01:01:01  1.119777  352243    352245\n",
       "8 2024-08-01 01:01:01  0.746518  352243    352245\n",
       "9 2024-10-01 01:01:01  0.373259  352243    352245"
      ]
     },
     "execution_count": 190,
     "metadata": {},
     "output_type": "execute_result"
    }
   ],
   "source": [
    "df=list_df_car[1].copy()\n",
    "for j in range(len(df)):\n",
    "    df.loc[j,'date']=df.loc[j,'date'].replace(hour=1,)\n",
    "    df.loc[j,'date']=df.loc[j,'date'].replace(minute=1)\n",
    "    df.loc[j,'date']=df.loc[j,'date'].replace(second=1)\n",
    "df.loc[:,'date']\n",
    "df"
   ]
  },
  {
   "cell_type": "code",
   "execution_count": 199,
   "id": "7622fe14-96ed-4e1c-b279-db217ed59463",
   "metadata": {},
   "outputs": [
    {
     "data": {
      "text/html": [
       "<div>\n",
       "<style scoped>\n",
       "    .dataframe tbody tr th:only-of-type {\n",
       "        vertical-align: middle;\n",
       "    }\n",
       "\n",
       "    .dataframe tbody tr th {\n",
       "        vertical-align: top;\n",
       "    }\n",
       "\n",
       "    .dataframe thead th {\n",
       "        text-align: right;\n",
       "    }\n",
       "</style>\n",
       "<table border=\"1\" class=\"dataframe\">\n",
       "  <thead>\n",
       "    <tr style=\"text-align: right;\">\n",
       "      <th></th>\n",
       "      <th>date</th>\n",
       "      <th>amount</th>\n",
       "      <th>flow</th>\n",
       "      <th>activity</th>\n",
       "    </tr>\n",
       "  </thead>\n",
       "  <tbody>\n",
       "    <tr>\n",
       "      <th>0</th>\n",
       "      <td>2022-04-01 19:48:54</td>\n",
       "      <td>0.350725</td>\n",
       "      <td>352240</td>\n",
       "      <td>352242</td>\n",
       "    </tr>\n",
       "    <tr>\n",
       "      <th>1</th>\n",
       "      <td>2022-06-01 16:47:06</td>\n",
       "      <td>0.701449</td>\n",
       "      <td>352240</td>\n",
       "      <td>352242</td>\n",
       "    </tr>\n",
       "    <tr>\n",
       "      <th>2</th>\n",
       "      <td>2022-08-01 13:45:18</td>\n",
       "      <td>1.052174</td>\n",
       "      <td>352240</td>\n",
       "      <td>352242</td>\n",
       "    </tr>\n",
       "    <tr>\n",
       "      <th>3</th>\n",
       "      <td>2022-10-01 10:43:30</td>\n",
       "      <td>1.402899</td>\n",
       "      <td>352240</td>\n",
       "      <td>352242</td>\n",
       "    </tr>\n",
       "    <tr>\n",
       "      <th>4</th>\n",
       "      <td>2022-12-01 07:41:42</td>\n",
       "      <td>1.753623</td>\n",
       "      <td>352240</td>\n",
       "      <td>352242</td>\n",
       "    </tr>\n",
       "    <tr>\n",
       "      <th>5</th>\n",
       "      <td>2023-01-31 04:39:54</td>\n",
       "      <td>1.913043</td>\n",
       "      <td>352240</td>\n",
       "      <td>352242</td>\n",
       "    </tr>\n",
       "    <tr>\n",
       "      <th>6</th>\n",
       "      <td>2023-04-02 01:38:06</td>\n",
       "      <td>1.530435</td>\n",
       "      <td>352240</td>\n",
       "      <td>352242</td>\n",
       "    </tr>\n",
       "    <tr>\n",
       "      <th>7</th>\n",
       "      <td>2023-06-01 22:36:18</td>\n",
       "      <td>1.147826</td>\n",
       "      <td>352240</td>\n",
       "      <td>352242</td>\n",
       "    </tr>\n",
       "    <tr>\n",
       "      <th>8</th>\n",
       "      <td>2023-08-01 19:34:30</td>\n",
       "      <td>0.765217</td>\n",
       "      <td>352240</td>\n",
       "      <td>352242</td>\n",
       "    </tr>\n",
       "    <tr>\n",
       "      <th>9</th>\n",
       "      <td>2023-10-01 16:32:42</td>\n",
       "      <td>0.382609</td>\n",
       "      <td>352240</td>\n",
       "      <td>352242</td>\n",
       "    </tr>\n",
       "  </tbody>\n",
       "</table>\n",
       "</div>"
      ],
      "text/plain": [
       "                 date    amount    flow  activity\n",
       "0 2022-04-01 19:48:54  0.350725  352240    352242\n",
       "1 2022-06-01 16:47:06  0.701449  352240    352242\n",
       "2 2022-08-01 13:45:18  1.052174  352240    352242\n",
       "3 2022-10-01 10:43:30  1.402899  352240    352242\n",
       "4 2022-12-01 07:41:42  1.753623  352240    352242\n",
       "5 2023-01-31 04:39:54  1.913043  352240    352242\n",
       "6 2023-04-02 01:38:06  1.530435  352240    352242\n",
       "7 2023-06-01 22:36:18  1.147826  352240    352242\n",
       "8 2023-08-01 19:34:30  0.765217  352240    352242\n",
       "9 2023-10-01 16:32:42  0.382609  352240    352242"
      ]
     },
     "metadata": {},
     "output_type": "display_data"
    },
    {
     "data": {
      "text/html": [
       "<div>\n",
       "<style scoped>\n",
       "    .dataframe tbody tr th:only-of-type {\n",
       "        vertical-align: middle;\n",
       "    }\n",
       "\n",
       "    .dataframe tbody tr th {\n",
       "        vertical-align: top;\n",
       "    }\n",
       "\n",
       "    .dataframe thead th {\n",
       "        text-align: right;\n",
       "    }\n",
       "</style>\n",
       "<table border=\"1\" class=\"dataframe\">\n",
       "  <thead>\n",
       "    <tr style=\"text-align: right;\">\n",
       "      <th></th>\n",
       "      <th>date</th>\n",
       "      <th>amount</th>\n",
       "      <th>flow</th>\n",
       "      <th>activity</th>\n",
       "    </tr>\n",
       "  </thead>\n",
       "  <tbody>\n",
       "    <tr>\n",
       "      <th>0</th>\n",
       "      <td>2023-04-02 19:48:54</td>\n",
       "      <td>0.342154</td>\n",
       "      <td>352243</td>\n",
       "      <td>352245</td>\n",
       "    </tr>\n",
       "    <tr>\n",
       "      <th>1</th>\n",
       "      <td>2023-06-02 16:47:06</td>\n",
       "      <td>0.684308</td>\n",
       "      <td>352243</td>\n",
       "      <td>352245</td>\n",
       "    </tr>\n",
       "    <tr>\n",
       "      <th>2</th>\n",
       "      <td>2023-08-02 13:45:18</td>\n",
       "      <td>1.026463</td>\n",
       "      <td>352243</td>\n",
       "      <td>352245</td>\n",
       "    </tr>\n",
       "    <tr>\n",
       "      <th>3</th>\n",
       "      <td>2023-10-02 10:43:30</td>\n",
       "      <td>1.368617</td>\n",
       "      <td>352243</td>\n",
       "      <td>352245</td>\n",
       "    </tr>\n",
       "    <tr>\n",
       "      <th>4</th>\n",
       "      <td>2023-12-02 07:41:42</td>\n",
       "      <td>1.710771</td>\n",
       "      <td>352243</td>\n",
       "      <td>352245</td>\n",
       "    </tr>\n",
       "    <tr>\n",
       "      <th>5</th>\n",
       "      <td>2024-02-01 04:39:54</td>\n",
       "      <td>1.866296</td>\n",
       "      <td>352243</td>\n",
       "      <td>352245</td>\n",
       "    </tr>\n",
       "    <tr>\n",
       "      <th>6</th>\n",
       "      <td>2024-04-02 01:38:06</td>\n",
       "      <td>1.493037</td>\n",
       "      <td>352243</td>\n",
       "      <td>352245</td>\n",
       "    </tr>\n",
       "    <tr>\n",
       "      <th>7</th>\n",
       "      <td>2024-06-01 22:36:18</td>\n",
       "      <td>1.119777</td>\n",
       "      <td>352243</td>\n",
       "      <td>352245</td>\n",
       "    </tr>\n",
       "    <tr>\n",
       "      <th>8</th>\n",
       "      <td>2024-08-01 19:34:30</td>\n",
       "      <td>0.746518</td>\n",
       "      <td>352243</td>\n",
       "      <td>352245</td>\n",
       "    </tr>\n",
       "    <tr>\n",
       "      <th>9</th>\n",
       "      <td>2024-10-01 16:32:42</td>\n",
       "      <td>0.373259</td>\n",
       "      <td>352243</td>\n",
       "      <td>352245</td>\n",
       "    </tr>\n",
       "  </tbody>\n",
       "</table>\n",
       "</div>"
      ],
      "text/plain": [
       "                 date    amount    flow  activity\n",
       "0 2023-04-02 19:48:54  0.342154  352243    352245\n",
       "1 2023-06-02 16:47:06  0.684308  352243    352245\n",
       "2 2023-08-02 13:45:18  1.026463  352243    352245\n",
       "3 2023-10-02 10:43:30  1.368617  352243    352245\n",
       "4 2023-12-02 07:41:42  1.710771  352243    352245\n",
       "5 2024-02-01 04:39:54  1.866296  352243    352245\n",
       "6 2024-04-02 01:38:06  1.493037  352243    352245\n",
       "7 2024-06-01 22:36:18  1.119777  352243    352245\n",
       "8 2024-08-01 19:34:30  0.746518  352243    352245\n",
       "9 2024-10-01 16:32:42  0.373259  352243    352245"
      ]
     },
     "execution_count": 199,
     "metadata": {},
     "output_type": "execute_result"
    }
   ],
   "source": [
    "display(list_df_car[0])\n",
    "list_df_car[1]"
   ]
  },
  {
   "cell_type": "code",
   "execution_count": 198,
   "id": "16c7d0ec-6267-46f0-8e8e-b4098926451e",
   "metadata": {},
   "outputs": [
    {
     "data": {
      "text/html": [
       "<div>\n",
       "<style scoped>\n",
       "    .dataframe tbody tr th:only-of-type {\n",
       "        vertical-align: middle;\n",
       "    }\n",
       "\n",
       "    .dataframe tbody tr th {\n",
       "        vertical-align: top;\n",
       "    }\n",
       "\n",
       "    .dataframe thead th {\n",
       "        text-align: right;\n",
       "    }\n",
       "</style>\n",
       "<table border=\"1\" class=\"dataframe\">\n",
       "  <thead>\n",
       "    <tr style=\"text-align: right;\">\n",
       "      <th></th>\n",
       "      <th>date</th>\n",
       "      <th>amount</th>\n",
       "      <th>flow</th>\n",
       "      <th>activity</th>\n",
       "      <th>amount_sum</th>\n",
       "    </tr>\n",
       "  </thead>\n",
       "  <tbody>\n",
       "    <tr>\n",
       "      <th>0</th>\n",
       "      <td>2022-04-01 01:01:01</td>\n",
       "      <td>0.350725</td>\n",
       "      <td>352240</td>\n",
       "      <td>352242</td>\n",
       "      <td>0.350725</td>\n",
       "    </tr>\n",
       "    <tr>\n",
       "      <th>1</th>\n",
       "      <td>2022-06-01 01:01:01</td>\n",
       "      <td>0.701449</td>\n",
       "      <td>352240</td>\n",
       "      <td>352242</td>\n",
       "      <td>1.052174</td>\n",
       "    </tr>\n",
       "    <tr>\n",
       "      <th>2</th>\n",
       "      <td>2022-08-01 01:01:01</td>\n",
       "      <td>1.052174</td>\n",
       "      <td>352240</td>\n",
       "      <td>352242</td>\n",
       "      <td>2.104348</td>\n",
       "    </tr>\n",
       "    <tr>\n",
       "      <th>3</th>\n",
       "      <td>2022-10-01 01:01:01</td>\n",
       "      <td>1.402899</td>\n",
       "      <td>352240</td>\n",
       "      <td>352242</td>\n",
       "      <td>3.507246</td>\n",
       "    </tr>\n",
       "    <tr>\n",
       "      <th>4</th>\n",
       "      <td>2022-12-01 01:01:01</td>\n",
       "      <td>1.753623</td>\n",
       "      <td>352240</td>\n",
       "      <td>352242</td>\n",
       "      <td>5.260870</td>\n",
       "    </tr>\n",
       "    <tr>\n",
       "      <th>5</th>\n",
       "      <td>2023-01-01 01:01:01</td>\n",
       "      <td>1.913043</td>\n",
       "      <td>352240</td>\n",
       "      <td>352242</td>\n",
       "      <td>7.173913</td>\n",
       "    </tr>\n",
       "    <tr>\n",
       "      <th>6</th>\n",
       "      <td>2023-04-01 01:01:01</td>\n",
       "      <td>1.872589</td>\n",
       "      <td>704483</td>\n",
       "      <td>704487</td>\n",
       "      <td>9.046502</td>\n",
       "    </tr>\n",
       "    <tr>\n",
       "      <th>7</th>\n",
       "      <td>2023-06-01 01:01:01</td>\n",
       "      <td>1.832135</td>\n",
       "      <td>704483</td>\n",
       "      <td>704487</td>\n",
       "      <td>10.878637</td>\n",
       "    </tr>\n",
       "    <tr>\n",
       "      <th>8</th>\n",
       "      <td>2023-08-01 01:01:01</td>\n",
       "      <td>1.791680</td>\n",
       "      <td>704483</td>\n",
       "      <td>704487</td>\n",
       "      <td>12.670317</td>\n",
       "    </tr>\n",
       "    <tr>\n",
       "      <th>9</th>\n",
       "      <td>2023-10-01 01:01:01</td>\n",
       "      <td>1.751226</td>\n",
       "      <td>704483</td>\n",
       "      <td>704487</td>\n",
       "      <td>14.421542</td>\n",
       "    </tr>\n",
       "    <tr>\n",
       "      <th>10</th>\n",
       "      <td>2023-12-01 01:01:01</td>\n",
       "      <td>1.710771</td>\n",
       "      <td>352243</td>\n",
       "      <td>352245</td>\n",
       "      <td>5.132313</td>\n",
       "    </tr>\n",
       "    <tr>\n",
       "      <th>11</th>\n",
       "      <td>2024-02-01 01:01:01</td>\n",
       "      <td>1.866296</td>\n",
       "      <td>352243</td>\n",
       "      <td>352245</td>\n",
       "      <td>6.998609</td>\n",
       "    </tr>\n",
       "    <tr>\n",
       "      <th>12</th>\n",
       "      <td>2024-04-01 01:01:01</td>\n",
       "      <td>1.493037</td>\n",
       "      <td>352243</td>\n",
       "      <td>352245</td>\n",
       "      <td>8.491645</td>\n",
       "    </tr>\n",
       "    <tr>\n",
       "      <th>13</th>\n",
       "      <td>2024-06-01 01:01:01</td>\n",
       "      <td>1.119777</td>\n",
       "      <td>352243</td>\n",
       "      <td>352245</td>\n",
       "      <td>9.611423</td>\n",
       "    </tr>\n",
       "    <tr>\n",
       "      <th>14</th>\n",
       "      <td>2024-08-01 01:01:01</td>\n",
       "      <td>0.746518</td>\n",
       "      <td>352243</td>\n",
       "      <td>352245</td>\n",
       "      <td>10.357941</td>\n",
       "    </tr>\n",
       "    <tr>\n",
       "      <th>15</th>\n",
       "      <td>2024-10-01 01:01:01</td>\n",
       "      <td>0.373259</td>\n",
       "      <td>352243</td>\n",
       "      <td>352245</td>\n",
       "      <td>10.731200</td>\n",
       "    </tr>\n",
       "  </tbody>\n",
       "</table>\n",
       "</div>"
      ],
      "text/plain": [
       "                  date    amount    flow activity  amount_sum\n",
       "0  2022-04-01 01:01:01  0.350725  352240   352242    0.350725\n",
       "1  2022-06-01 01:01:01  0.701449  352240   352242    1.052174\n",
       "2  2022-08-01 01:01:01  1.052174  352240   352242    2.104348\n",
       "3  2022-10-01 01:01:01  1.402899  352240   352242    3.507246\n",
       "4  2022-12-01 01:01:01  1.753623  352240   352242    5.260870\n",
       "5  2023-01-01 01:01:01  1.913043  352240   352242    7.173913\n",
       "6  2023-04-01 01:01:01  1.872589  704483   704487    9.046502\n",
       "7  2023-06-01 01:01:01  1.832135  704483   704487   10.878637\n",
       "8  2023-08-01 01:01:01  1.791680  704483   704487   12.670317\n",
       "9  2023-10-01 01:01:01  1.751226  704483   704487   14.421542\n",
       "10 2023-12-01 01:01:01  1.710771  352243   352245    5.132313\n",
       "11 2024-02-01 01:01:01  1.866296  352243   352245    6.998609\n",
       "12 2024-04-01 01:01:01  1.493037  352243   352245    8.491645\n",
       "13 2024-06-01 01:01:01  1.119777  352243   352245    9.611423\n",
       "14 2024-08-01 01:01:01  0.746518  352243   352245   10.357941\n",
       "15 2024-10-01 01:01:01  0.373259  352243   352245   10.731200"
      ]
     },
     "execution_count": 198,
     "metadata": {},
     "output_type": "execute_result"
    }
   ],
   "source": [
    "res#.groupby('date').sum()"
   ]
  },
  {
   "cell_type": "code",
   "execution_count": 209,
   "id": "9656a179-ff37-4436-95bf-a3ca31032bcb",
   "metadata": {},
   "outputs": [
    {
     "name": "stderr",
     "output_type": "stream",
     "text": [
      "C:\\Users\\damor\\AppData\\Local\\Temp\\ipykernel_19416\\3427441104.py:12: FutureWarning: The behavior of DataFrame concatenation with empty or all-NA entries is deprecated. In a future version, this will no longer exclude empty or all-NA columns when determining the result dtypes. To retain the old behavior, exclude the relevant entries before the concat operation.\n",
      "  res=pd.concat([res,df])\n"
     ]
    },
    {
     "data": {
      "text/plain": [
       "Text(0.5, 0, 'Time (years)')"
      ]
     },
     "execution_count": 209,
     "metadata": {},
     "output_type": "execute_result"
    },
    {
     "data": {
      "image/png": "[encoded data removed]",
      "text/plain": [
       "<Figure size 640x480 with 1 Axes>"
      ]
     },
     "metadata": {},
     "output_type": "display_data"
    }
   ],
   "source": [
    "res=pd.DataFrame(columns=list_df_car[0].columns)\n",
    "for i in range(len(list_df_car)):\n",
    "    df=list_df_car[i].copy()\n",
    "    # print(i)\n",
    "    for j in range(len(df)):\n",
    "        df.loc[j,'date']=df.loc[j,'date'].replace(hour=1,)\n",
    "        df.loc[j,'date']=df.loc[j,'date'].replace(minute=1)\n",
    "        df.loc[j,'date']=df.loc[j,'date'].replace(second=1)\n",
    "        df.loc[j,'date']=df.loc[j,'date'].replace(day=1)\n",
    "    # df.loc[:,'date']\n",
    "    df[\"amount_sum\"] = df['amount'].cumsum()\n",
    "    res=pd.concat([res,df])\n",
    "    # plt.plot(df['date'],df[\"amount_sum\"])\n",
    "    # axes = df.plot(x=\"date\", y=\"amount_sum\")\n",
    "    # axes.set_ylabel(\"Cumulative $CO_{2}$ emissions (kg)\")\n",
    "    # axes.set_xlabel(\"Time (years)\")\n",
    "\n",
    "res=res.groupby('date').sum()\n",
    "res=res.reset_index(0).reset_index(drop=True)\n",
    "res['true amount_sum']=res['amount_sum'].cumsum()\n",
    "plt.plot(res['date'],res[\"true amount_sum\"]*3500000)\n",
    "plt.ylabel(\"Cumulative $CO_{2}$ emissions (kg)\")\n",
    "plt.xlabel(\"Time (years)\")\n"
   ]
  },
  {
   "cell_type": "code",
   "execution_count": 143,
   "id": "07ed30ec-44ce-4649-b315-e077d14d0fb5",
   "metadata": {},
   "outputs": [
    {
     "name": "stdout",
     "output_type": "stream",
     "text": [
      "0\n",
      "1\n"
     ]
    },
    {
     "data": {
      "image/png": "[encoded data removed]",
      "text/plain": [
       "<Figure size 640x480 with 1 Axes>"
      ]
     },
     "metadata": {},
     "output_type": "display_data"
    },
    {
     "data": {
      "image/png": "[encoded data removed]",
      "text/plain": [
       "<Figure size 640x480 with 1 Axes>"
      ]
     },
     "metadata": {},
     "output_type": "display_data"
    }
   ],
   "source": [
    "for i in range(2):\n",
    "    df=list_df_car[i]\n",
    "    print(i)\n",
    "    df[\"amount_sum\"] = df['amount'].cumsum()\n",
    "    axes = df.plot(x=\"date\", y=\"amount_sum\")\n",
    "    axes.set_ylabel(\"Cumulative $CO_{2}$ emissions (kg)\")\n",
    "    axes.set_xlabel(\"Time (years)\")"
   ]
  },
  {
   "cell_type": "code",
   "execution_count": null,
   "id": "55ed567a-6708-4c95-ac99-48a61ded0dab",
   "metadata": {},
   "outputs": [],
   "source": []
  }
 ],
 "metadata": {
  "kernelspec": {
   "display_name": "Python 3 (ipykernel)",
   "language": "python",
   "name": "python3"
  },
  "language_info": {
   "codemirror_mode": {
    "name": "ipython",
    "version": 3
   },
   "file_extension": ".py",
   "mimetype": "text/x-python",
   "name": "python",
   "nbconvert_exporter": "python",
   "pygments_lexer": "ipython3",
   "version": "3.11.10"
  }
 },
 "nbformat": 4,
 "nbformat_minor": 5
}
