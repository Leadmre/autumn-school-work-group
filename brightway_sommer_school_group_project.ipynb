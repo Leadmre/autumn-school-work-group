{
 "cells": [
  {
   "cell_type": "code",
   "execution_count": 37,
   "id": "93e41c65-82fc-4ed6-8ea7-b02ff14193ce",
   "metadata": {},
   "outputs": [],
   "source": [
    "#create a project \n",
    "from premise import *\n",
    "import bw2data as bd\n",
    "import bw2calc as bc \n",
    "import bw2io as bi"
   ]
  },
  {
   "cell_type": "code",
   "execution_count": 4,
   "id": "1fa460be-a10e-498d-9464-fb3582088414",
   "metadata": {},
   "outputs": [
    {
     "data": {
      "text/plain": [
       "[Project: autumn_school_project,\n",
       " Project: bw25-tuto,\n",
       " Project: bw25_intro,\n",
       " Project: bw_temporalis example,\n",
       " Project: dds-MFA,\n",
       " Project: dds-MFA_v2,\n",
       " Project: default,\n",
       " Project: example_1,\n",
       " Project: example_sommer_school,\n",
       " Project: odym_example,\n",
       " Project: parametric_LCA,\n",
       " Project: Parametric_LCA,\n",
       " Project: StepByStep,\n",
       " Project: Temporalis example project]"
      ]
     },
     "execution_count": 4,
     "metadata": {},
     "output_type": "execute_result"
    }
   ],
   "source": [
    "sorted(bw2data.projects)"
   ]
  },
  {
   "cell_type": "code",
   "execution_count": 10,
   "id": "811dca21-8785-4286-a57c-2fa417357206",
   "metadata": {},
   "outputs": [],
   "source": [
    "bw2data.projects.copy_project(new_name=\"autumn_school_project_2\")"
   ]
  },
  {
   "cell_type": "code",
   "execution_count": 11,
   "id": "0390df4c-0a28-4e56-893f-bc2e854931f7",
   "metadata": {},
   "outputs": [],
   "source": [
    "bw2data.projects.set_current(\"autumn_school_project_2\")"
   ]
  },
  {
   "cell_type": "code",
   "execution_count": 22,
   "id": "cbfc6fed-57a4-4b71-8094-8fa147054b08",
   "metadata": {},
   "outputs": [
    {
     "data": {
      "text/plain": [
       "Databases dictionary with 5 object(s):\n",
       "\tbiosphere3\n",
       "\tecoinvent-3.10-cutoff\n",
       "\th2_electrolysis\n",
       "\tparametric_LCA\n",
       "\tsuper_db_12-11-2024"
      ]
     },
     "execution_count": 22,
     "metadata": {},
     "output_type": "execute_result"
    }
   ],
   "source": [
    "bw2data.databases"
   ]
  },
  {
   "cell_type": "code",
   "execution_count": null,
   "id": "caeb6999-1fa0-4ba9-a862-80e56ee53522",
   "metadata": {},
   "outputs": [],
   "source": [
    "#bw2io.import_ecoinvent_release(\n",
    "#    version=\"3.10\", \n",
    "#    system_model=\"cutoff\", # other options are \"consequential\", \"apos\" and \"EN15804\"\n",
    "#    username=\"xxxx\",\n",
    "#    password=\"xxxx\",\n",
    "#    biosphere_name=\"biosphere\" # optional, otherwise a name is chosen for you\n",
    "#)"
   ]
  },
  {
   "cell_type": "code",
   "execution_count": 42,
   "id": "20f8352a-a3f9-4ba0-8e37-ab26b2373199",
   "metadata": {},
   "outputs": [
    {
     "name": "stdout",
     "output_type": "stream",
     "text": [
      "premise v.(2, 2, 1)\n",
      "+------------------------------------------------------------------+\n",
      "| Warning                                                          |\n",
      "+------------------------------------------------------------------+\n",
      "| Because some of the scenarios can yield LCI databases            |\n",
      "| containing net negative emission technologies (NET),             |\n",
      "| it is advised to account for biogenic CO2 flows when calculating |\n",
      "| Global Warming potential indicators.                             |\n",
      "| `premise_gwp` provides characterization factors for such flows.  |\n",
      "| It also provides factors for hydrogen emissions to air.          |\n",
      "|                                                                  |\n",
      "| Within your bw2 project:                                         |\n",
      "| from premise_gwp import add_premise_gwp                          |\n",
      "| add_premise_gwp()                                                |\n",
      "+------------------------------------------------------------------+\n",
      "+--------------------------------+----------------------------------+\n",
      "| Utils functions                | Description                      |\n",
      "+--------------------------------+----------------------------------+\n",
      "| clear_cache()                  | Clears the cache folder. Useful  |\n",
      "|                                | when updating `premise`or        |\n",
      "|                                | encountering issues with         |\n",
      "|                                | inventories.                     |\n",
      "+--------------------------------+----------------------------------+\n",
      "| get_regions_definition(model)  | Retrieves the list of countries  |\n",
      "|                                | for each region of the model.    |\n",
      "+--------------------------------+----------------------------------+\n",
      "| ndb.NewDatabase(...)           | Generates a summary of the most  |\n",
      "| ndb.generate_scenario_report() | important scenarios' variables.  |\n",
      "+--------------------------------+----------------------------------+\n",
      "Keep uncertainty data?\n",
      "NewDatabase(..., keep_source_db_uncertainty=True), keep_imports_uncertainty=True)\n",
      "\n",
      "Hide these messages?\n",
      "NewDatabase(..., quiet=True)\n",
      "- Extracting source database\n",
      "- Extracting inventories\n",
      "- Fetching IAM data\n",
      "Done!\n"
     ]
    }
   ],
   "source": [
    "ndb = NewDatabase(\n",
    "    scenarios=[\n",
    "        {\"model\":\"remind\", \"pathway\":\"SSP1-PkBudg500\", \"year\":2020},\n",
    "        {\"model\":\"remind\", \"pathway\":\"SSP1-PkBudg500\", \"year\":2050},\n",
    "        {\"model\":\"remind\", \"pathway\":\"SSP2-PkBudg500\", \"year\":2020},\n",
    "        {\"model\":\"remind\", \"pathway\":\"SSP2-PkBudg500\", \"year\":2050},\n",
    "    ],\n",
    "    source_db=\"ecoinvent-3.10-cutoff\", # <-- name of the database in the BW2 project. Must be a string.\n",
    "    source_version=\"3.10\", # <-- version of ecoinvent. Can be \"3.8\", \"3.9\" or \"3.10\". Must be a string.\n",
    "    key='tUePmX_S5B8ieZkkM7WUU2CnO8SmShwmAeWK9x2rTFo=', # <-- decryption key\n",
    "    # to be requested from the library maintainers if you want ot use default scenarios included in `premise`\n",
    "    keep_source_db_uncertainty=False, # False by default, set to True if you want to keep ecoinvent's uncertainty data\n",
    "    keep_imports_uncertainty=False, # False by default, set to True if you want to keep the uncertainty data of the additional inventories\n",
    "    use_absolute_efficiency=True, # False by default, set to True if you want to use the IAM's absolute efficiencies\n",
    ")"
   ]
  },
  {
   "cell_type": "code",
   "execution_count": 43,
   "id": "b9ee233b-323b-4cd2-93d5-958c52159e91",
   "metadata": {},
   "outputs": [
    {
     "name": "stderr",
     "output_type": "stream",
     "text": [
      "Processing scenarios for all sectors: 100%|█| 4/4 [09:43<00:00, 145.79"
     ]
    },
    {
     "name": "stdout",
     "output_type": "stream",
     "text": [
      "Done!\n",
      "\n"
     ]
    },
    {
     "name": "stderr",
     "output_type": "stream",
     "text": [
      "\n"
     ]
    }
   ],
   "source": [
    "# select sector to integrate, or all sectors\n",
    "ndb.update()"
   ]
  },
  {
   "cell_type": "code",
   "execution_count": 44,
   "id": "e6f9f753-9adb-4292-9ec5-ecfaff6ff4a5",
   "metadata": {},
   "outputs": [
    {
     "name": "stdout",
     "output_type": "stream",
     "text": [
      "Write new database(s) to Brightway.\n",
      "Running all checks...\n",
      "Minor anomalies found: check the change report.\n"
     ]
    },
    {
     "name": "stderr",
     "output_type": "stream",
     "text": [
      "Writing activities to SQLite3 database:\n",
      "0% [##############################] 100% | ETA: 00:00:00\n",
      "Total time elapsed: 00:00:51\n"
     ]
    },
    {
     "name": "stdout",
     "output_type": "stream",
     "text": [
      "Title: Writing activities to SQLite3 database:\n",
      "  Started: 11/14/2024 19:06:39\n",
      "  Finished: 11/14/2024 19:07:30\n",
      "  Total time elapsed: 00:00:51\n",
      "  CPU %: 73.50\n",
      "  Memory %: 61.35\n",
      "Created database: ei_cutoff_3.10_remind_SSP1-PkBudg500_2020 2024-11-14\n",
      "Running all checks...\n",
      "Minor anomalies found: check the change report.\n"
     ]
    },
    {
     "name": "stderr",
     "output_type": "stream",
     "text": [
      "Writing activities to SQLite3 database:\n",
      "0% [##############################] 100% | ETA: 00:00:00\n",
      "Total time elapsed: 00:00:54\n"
     ]
    },
    {
     "name": "stdout",
     "output_type": "stream",
     "text": [
      "Title: Writing activities to SQLite3 database:\n",
      "  Started: 11/14/2024 19:12:24\n",
      "  Finished: 11/14/2024 19:13:19\n",
      "  Total time elapsed: 00:00:54\n",
      "  CPU %: 77.20\n",
      "  Memory %: 58.10\n",
      "Created database: ei_cutoff_3.10_remind_SSP1-PkBudg500_2050 2024-11-14\n",
      "Running all checks...\n",
      "Minor anomalies found: check the change report.\n"
     ]
    },
    {
     "name": "stderr",
     "output_type": "stream",
     "text": [
      "Writing activities to SQLite3 database:\n",
      "0% [##############################] 100% | ETA: 00:00:00\n",
      "Total time elapsed: 00:01:46\n"
     ]
    },
    {
     "name": "stdout",
     "output_type": "stream",
     "text": [
      "Title: Writing activities to SQLite3 database:\n",
      "  Started: 11/14/2024 19:18:15\n",
      "  Finished: 11/14/2024 19:20:02\n",
      "  Total time elapsed: 00:01:46\n",
      "  CPU %: 41.40\n",
      "  Memory %: 58.74\n",
      "Created database: ei_cutoff_3.10_remind_SSP2-PkBudg500_2020 2024-11-14\n",
      "Running all checks...\n",
      "Minor anomalies found: check the change report.\n"
     ]
    },
    {
     "name": "stderr",
     "output_type": "stream",
     "text": [
      "Writing activities to SQLite3 database:\n",
      "0% [##############################] 100% | ETA: 00:00:00\n",
      "Total time elapsed: 00:03:25\n"
     ]
    },
    {
     "name": "stdout",
     "output_type": "stream",
     "text": [
      "Title: Writing activities to SQLite3 database:\n",
      "  Started: 11/14/2024 19:25:58\n",
      "  Finished: 11/14/2024 19:29:24\n",
      "  Total time elapsed: 00:03:25\n",
      "  CPU %: 29.80\n",
      "  Memory %: 57.14\n",
      "Created database: ei_cutoff_3.10_remind_SSP2-PkBudg500_2050 2024-11-14\n",
      "Generate scenario report.\n",
      "Report saved under C:\\Users\\jv1060\\Documents\\GitHub\\autumn-school-dds-psi-2024\\export\\scenario_report.\n",
      "Generate change report.\n",
      "Report saved under C:\\Users\\jv1060\\Documents\\GitHub\\autumn-school-dds-psi-2024.\n"
     ]
    }
   ],
   "source": [
    "ndb.write_db_to_brightway()"
   ]
  },
  {
   "cell_type": "code",
   "execution_count": 23,
   "id": "116a0563-9ac9-4fac-b2fd-71440767febf",
   "metadata": {},
   "outputs": [
    {
     "name": "stdout",
     "output_type": "stream",
     "text": [
      "Running all checks...\n",
      "Minor anomalies found: check the change report.\n",
      "Running all checks...\n",
      "Minor anomalies found: check the change report.\n",
      "Running all checks...\n",
      "Minor anomalies found: check the change report.\n",
      "Running all checks...\n",
      "Minor anomalies found: check the change report.\n",
      "Building superstructure database...\n",
      "Dropped 20896 duplicate(s).\n",
      "Scenario difference file exported to C:\\Users\\jv1060\\Documents\\GitHub\\autumn-school-dds-psi-2024\\export\\scenario diff files!\n",
      "Running all checks...\n",
      "Minor anomalies found: check the change report.\n"
     ]
    },
    {
     "name": "stderr",
     "output_type": "stream",
     "text": [
      "Writing activities to SQLite3 database:\n",
      "0% [##############################] 100% | ETA: 00:00:00\n",
      "Total time elapsed: 00:01:26\n"
     ]
    },
    {
     "name": "stdout",
     "output_type": "stream",
     "text": [
      "Title: Writing activities to SQLite3 database:\n",
      "  Started: 11/14/2024 16:27:07\n",
      "  Finished: 11/14/2024 16:28:34\n",
      "  Total time elapsed: 00:01:26\n",
      "  CPU %: 95.30\n",
      "  Memory %: 58.42\n",
      "Created database: super_db_14-11-2024\n",
      "Generate scenario report.\n",
      "Report saved under C:\\Users\\jv1060\\Documents\\GitHub\\autumn-school-dds-psi-2024\\export\\scenario_report.\n",
      "Generate change report.\n",
      "Report saved under C:\\Users\\jv1060\\Documents\\GitHub\\autumn-school-dds-psi-2024.\n"
     ]
    }
   ],
   "source": [
    "#ndb.write_superstructure_db_to_brightway()"
   ]
  },
  {
   "cell_type": "code",
   "execution_count": 45,
   "id": "554078b4-3709-4169-bda1-0290c9babee9",
   "metadata": {},
   "outputs": [
    {
     "data": {
      "text/plain": [
       "Databases dictionary with 11 object(s):\n",
       "\tbiosphere3\n",
       "\tecoinvent-3.10-cutoff\n",
       "\tei_cutoff_3.10_image_SSP1-Base_2020 2024-11-14\n",
       "\tei_cutoff_3.10_image_SSP1-Base_2050 2024-11-14\n",
       "\tei_cutoff_3.10_image_SSP2-RCP19_2020 2024-11-14\n",
       "\tei_cutoff_3.10_image_SSP2-RCP19_2050 2024-11-14\n",
       "\tei_cutoff_3.10_remind_SSP1-PkBudg500_2020 2024-11-14\n",
       "\tei_cutoff_3.10_remind_SSP1-PkBudg500_2050 2024-11-14\n",
       "\tei_cutoff_3.10_remind_SSP2-PkBudg500_2020 2024-11-14\n",
       "\tei_cutoff_3.10_remind_SSP2-PkBudg500_2050 2024-11-14\n",
       "\tsuper_db_14-11-2024"
      ]
     },
     "execution_count": 45,
     "metadata": {},
     "output_type": "execute_result"
    }
   ],
   "source": [
    "bw2data.databases"
   ]
  },
  {
   "cell_type": "code",
   "execution_count": 34,
   "id": "8306c1b5-acc6-4b9a-8fe0-646a258132d6",
   "metadata": {},
   "outputs": [
    {
     "name": "stdout",
     "output_type": "stream",
     "text": [
      "Vacuuming database \n"
     ]
    },
    {
     "ename": "KeyError",
     "evalue": "'h2_electrolysis'",
     "output_type": "error",
     "traceback": [
      "\u001b[1;31m---------------------------------------------------------------------------\u001b[0m",
      "\u001b[1;31mKeyError\u001b[0m                                  Traceback (most recent call last)",
      "Cell \u001b[1;32mIn[34], line 4\u001b[0m\n\u001b[0;32m      2\u001b[0m \u001b[38;5;28;01mdel\u001b[39;00m bd\u001b[38;5;241m.\u001b[39mdatabases[\u001b[38;5;124m\"\u001b[39m\u001b[38;5;124mparametric_LCA\u001b[39m\u001b[38;5;124m\"\u001b[39m]\n\u001b[0;32m      3\u001b[0m \u001b[38;5;28;01mdel\u001b[39;00m bd\u001b[38;5;241m.\u001b[39mdatabases[\u001b[38;5;124m\"\u001b[39m\u001b[38;5;124msuper_db_12-11-2024\u001b[39m\u001b[38;5;124m\"\u001b[39m]\n\u001b[1;32m----> 4\u001b[0m \u001b[38;5;28;01mdel\u001b[39;00m bd\u001b[38;5;241m.\u001b[39mdatabases[\u001b[38;5;124m\"\u001b[39m\u001b[38;5;124mh2_electrolysis\u001b[39m\u001b[38;5;124m\"\u001b[39m]\n",
      "File \u001b[1;32m~\\AppData\\Local\\anaconda3\\envs\\premise_env\\Lib\\site-packages\\bw2data\\project.py:358\u001b[0m, in \u001b[0;36mwritable_project\u001b[1;34m(wrapped, instance, args, kwargs)\u001b[0m\n\u001b[0;32m    356\u001b[0m \u001b[38;5;28;01mif\u001b[39;00m projects\u001b[38;5;241m.\u001b[39mread_only:\n\u001b[0;32m    357\u001b[0m     \u001b[38;5;28;01mraise\u001b[39;00m ReadOnlyProject(READ_ONLY_PROJECT)\n\u001b[1;32m--> 358\u001b[0m \u001b[38;5;28;01mreturn\u001b[39;00m wrapped(\u001b[38;5;241m*\u001b[39margs, \u001b[38;5;241m*\u001b[39m\u001b[38;5;241m*\u001b[39mkwargs)\n",
      "File \u001b[1;32m~\\AppData\\Local\\anaconda3\\envs\\premise_env\\Lib\\site-packages\\bw2data\\meta.py:131\u001b[0m, in \u001b[0;36mDatabases.__delitem__\u001b[1;34m(self, name)\u001b[0m\n\u001b[0;32m    128\u001b[0m \u001b[38;5;28;01mexcept\u001b[39;00m:\n\u001b[0;32m    129\u001b[0m     \u001b[38;5;28;01mpass\u001b[39;00m\n\u001b[1;32m--> 131\u001b[0m \u001b[38;5;28msuper\u001b[39m(Databases, \u001b[38;5;28mself\u001b[39m)\u001b[38;5;241m.\u001b[39m\u001b[38;5;21m__delitem__\u001b[39m(name)\n",
      "File \u001b[1;32m~\\AppData\\Local\\anaconda3\\envs\\premise_env\\Lib\\site-packages\\bw2data\\serialization.py:177\u001b[0m, in \u001b[0;36mSerializedDict.__delitem__\u001b[1;34m(self, name)\u001b[0m\n\u001b[0;32m    176\u001b[0m \u001b[38;5;28;01mdef\u001b[39;00m \u001b[38;5;21m__delitem__\u001b[39m(\u001b[38;5;28mself\u001b[39m, name):\n\u001b[1;32m--> 177\u001b[0m     \u001b[38;5;28;01mdel\u001b[39;00m \u001b[38;5;28mself\u001b[39m\u001b[38;5;241m.\u001b[39mdata[name]\n\u001b[0;32m    178\u001b[0m     \u001b[38;5;28mself\u001b[39m\u001b[38;5;241m.\u001b[39mflush()\n",
      "\u001b[1;31mKeyError\u001b[0m: 'h2_electrolysis'"
     ]
    }
   ],
   "source": [
    "del bd.databases[\"h2_electrolysis\"]\n",
    "del bd.databases[\"parametric_LCA\"]\n",
    "del bd.databases[\"super_db_12-11-2024\"]\n",
    "del bd.databases[\"h2_electrolysis\"]"
   ]
  },
  {
   "cell_type": "code",
   "execution_count": 46,
   "id": "81f4b8cc-2cb3-4e70-a575-6e3b9c83c86c",
   "metadata": {},
   "outputs": [
    {
     "name": "stdout",
     "output_type": "stream",
     "text": [
      "Creating project backup archive - this could take a few minutes...\n"
     ]
    },
    {
     "data": {
      "text/plain": [
       "'autumn_school_project_2'"
      ]
     },
     "execution_count": 46,
     "metadata": {},
     "output_type": "execute_result"
    }
   ],
   "source": [
    "bi.backup.backup_project_directory(\n",
    "    project='autumn_school_project_2') # they store the data in users for no reasons"
   ]
  }
 ],
 "metadata": {
  "kernelspec": {
   "display_name": "Python 3 (ipykernel)",
   "language": "python",
   "name": "python3"
  },
  "language_info": {
   "codemirror_mode": {
    "name": "ipython",
    "version": 3
   },
   "file_extension": ".py",
   "mimetype": "text/x-python",
   "name": "python",
   "nbconvert_exporter": "python",
   "pygments_lexer": "ipython3",
   "version": "3.11.10"
  }
 },
 "nbformat": 4,
 "nbformat_minor": 5
}
